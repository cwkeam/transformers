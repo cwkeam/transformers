{
 "cells": [
  {
   "cell_type": "code",
   "execution_count": 1,
   "metadata": {},
   "outputs": [],
   "source": [
    "# lets take a deeper look.\n",
    "import arrayfire as af\n",
    "\n",
    "layer_x = af.array.read_array(\"OUTPUT_TRF.arr\", key=\"layer_x\").to_ndarray()\n",
    "\n",
    "MHAttention_v = af.array.read_array(\"OUTPUT_TRF.arr\", key=\"MHAttention_v\").to_ndarray()\n",
    "MHAttention_result_attn = af.array.read_array(\"OUTPUT_TRF.arr\", key=\"MHAttention_result_attn\").to_ndarray()\n",
    "MHAttention_result_result = af.array.read_array(\"OUTPUT_TRF.arr\", key=\"MHAttention_result_result\").to_ndarray()\n",
    "MHAttention_result_result_2 = af.array.read_array(\"OUTPUT_TRF.arr\", key=\"MHAttention_result_result_2\").to_ndarray()\n",
    "\n",
    "selfAttention_result = af.array.read_array(\"OUTPUT_TRF.arr\", key=\"selfAttention_result\").to_ndarray()\n",
    "selfAttention_wf_ = af.array.read_array(\"OUTPUT_TRF.arr\", key=\"selfAttention_wf_\").to_ndarray()\n",
    "selfAttention_result_2 = af.array.read_array(\"OUTPUT_TRF.arr\", key=\"selfAttention_result_2\").to_ndarray()\n",
    "\n",
    "layer_selfAttnResult = af.array.read_array(\"OUTPUT_TRF.arr\", key=\"layer_selfAttnResult\").to_ndarray()\n",
    "layer_norm1_w = af.array.read_array(\"OUTPUT_TRF.arr\", key=\"layer_norm1_w\").to_ndarray()\n",
    "layer_norm1_b = af.array.read_array(\"OUTPUT_TRF.arr\", key=\"layer_norm1_b\").to_ndarray()\n",
    "layer_h = af.array.read_array(\"OUTPUT_TRF.arr\", key=\"layer_h\").to_ndarray()\n",
    "layer_h_2 = af.array.read_array(\"OUTPUT_TRF.arr\", key=\"layer_h_2\").to_ndarray()"
   ]
  },
  {
   "cell_type": "code",
   "execution_count": 2,
   "metadata": {},
   "outputs": [],
   "source": [
    "# testing again after chaning MCTCSelfOutput to this differnt way flashlight seems to do things\n",
    "\n",
    "# testing after fixing the model & weights\n",
    "import torch\n",
    "from transformers import MCTCForCTC, MCTCProcessor, MCTCConfig\n",
    "config = MCTCConfig()\n",
    "model = MCTCForCTC(config)\n",
    "model.load_state_dict(torch.load(\"./ported_pytorch_model.bin\"))\n",
    "model = model.eval()\n",
    "our_attn = model.mctc.encoder.layers[0].attention\n",
    "first_layer = model.mctc.encoder.layers[0]\n"
   ]
  },
  {
   "cell_type": "code",
   "execution_count": 3,
   "metadata": {},
   "outputs": [
    {
     "name": "stdout",
     "output_type": "stream",
     "text": [
      "INPUT torch.Size([1, 321, 1536]) tensor(330.5734) tensor(0.1587)\n",
      "SelfOUtput input torch.Size([1, 321, 1536]) tensor(-1023.2032, grad_fn=<SumBackward0>)\n",
      "SelfOUtput prenorm torch.Size([1, 321, 1536]) tensor(22.9749, grad_fn=<SumBackward0>)\n",
      "SelfOUtput input_tensor torch.Size([1, 321, 1536]) tensor(330.5734)\n",
      "SelfOUtput postnorm torch.Size([1, 321, 1536]) tensor(-618.0341, grad_fn=<SumBackward0>)\n"
     ]
    }
   ],
   "source": [
    "def valueprint(k, name=None):\n",
    "    print(name, k.shape, k.sum(), k.std())\n",
    "\n",
    "first_layer = model.mctc.encoder.layers[0]\n",
    "\n",
    "our_output = torch.Tensor(layer_x).unsqueeze(0).transpose(1,2)\n",
    "valueprint(our_output, \"INPUT\")\n",
    "context_layer, attention_scores, attention_probs, value_layer, save_dict = our_attn(our_output, output_attentions=True)"
   ]
  },
  {
   "cell_type": "code",
   "execution_count": null,
   "metadata": {},
   "outputs": [],
   "source": []
  },
  {
   "cell_type": "code",
   "execution_count": 4,
   "metadata": {},
   "outputs": [],
   "source": [
    "# misc potentially important\n",
    "\n",
    "# the below two don't exist // didnt run\n",
    "# MHAttention_mask = af.array.read_array(\"OUTPUT_TRF.arr\", key=\"MHAttention_mask\").to_ndarray()\n",
    "# MHAttention_mask_scores = af.array.read_array(\"OUTPUT_TRF.arr\", key=\"MHAttention_mask_scores\").to_ndarray()\n",
    "MHAttention_padMaskTile = af.array.read_array(\"OUTPUT_TRF.arr\", key=\"MHAttention_padMaskTile\").to_ndarray()\n",
    "MHAttention_padMaskTile_scores = af.array.read_array(\"OUTPUT_TRF.arr\", key=\"MHAttention_padMaskTile_scores\").to_ndarray()\n",
    "MHAttention_result = af.array.read_array(\"OUTPUT_TRF.arr\", key=\"MHAttention_result\").to_ndarray()\n"
   ]
  },
  {
   "cell_type": "code",
   "execution_count": 5,
   "metadata": {},
   "outputs": [
    {
     "name": "stdout",
     "output_type": "stream",
     "text": [
      "None (321, 321, 4) 0.0 0.0\n",
      "None (321, 321, 4) 87683.41 0.91226983\n",
      "None (321, 321, 4) 87683.41 0.91226983\n"
     ]
    }
   ],
   "source": [
    "valueprint(MHAttention_padMaskTile)\n",
    "valueprint(MHAttention_padMaskTile_scores)\n",
    "valueprint(MHAttention_result)"
   ]
  },
  {
   "cell_type": "code",
   "execution_count": 6,
   "metadata": {},
   "outputs": [],
   "source": [
    "pre_softmax_attn = torch.Tensor(MHAttention_result)\n",
    "my_pre_softmax_attn = attention_scores"
   ]
  },
  {
   "cell_type": "code",
   "execution_count": 7,
   "metadata": {},
   "outputs": [
    {
     "name": "stdout",
     "output_type": "stream",
     "text": [
      "None torch.Size([321, 321, 4]) tensor(87683.4141) tensor(0.9123)\n",
      "None torch.Size([1, 4, 321, 321]) tensor(87989.8203, grad_fn=<SumBackward0>) tensor(0.9126, grad_fn=<StdBackward0>)\n"
     ]
    }
   ],
   "source": [
    "valueprint(pre_softmax_attn)\n",
    "valueprint(attention_scores)"
   ]
  },
  {
   "cell_type": "markdown",
   "metadata": {},
   "source": [
    "# so the problem is the logits calculation before softmax\n"
   ]
  },
  {
   "cell_type": "code",
   "execution_count": 8,
   "metadata": {},
   "outputs": [
    {
     "name": "stdout",
     "output_type": "stream",
     "text": [
      "None (321, 321, 4) 87683.41 0.91226983\n",
      "None (321, 321, 4) 87683.41 0.91226983\n"
     ]
    }
   ],
   "source": [
    "MHAttention_scores = af.array.read_array(\"OUTPUT_TRF.arr\", key=\"MHAttention_scores\").to_ndarray()\n",
    "\n",
    "MHAttention_pscores_scores = af.array.read_array(\"OUTPUT_TRF.arr\", key=\"MHAttention_pscores_scores\").to_ndarray()\n",
    "MHAttention_result = af.array.read_array(\"OUTPUT_TRF.arr\", key=\"MHAttention_pscores_scores\").to_ndarray()\n",
    "\n",
    "# we expect MHAttention_pscores_scores(scores after rel pos) == MHAttention_result(former + masking + padding)\n",
    "valueprint(MHAttention_pscores_scores)\n",
    "valueprint(MHAttention_result)\n",
    "\n",
    "\n",
    "\n",
    "pre_posemb_attention_scores = save_dict[\"pre_posemb_attention_scores\"]\n",
    "post_posemb_attention_scores = save_dict[\"post_posemb_attention_scores\"]\n"
   ]
  },
  {
   "cell_type": "code",
   "execution_count": 9,
   "metadata": {},
   "outputs": [
    {
     "name": "stdout",
     "output_type": "stream",
     "text": [
      "my_pre_scores torch.Size([1, 4, 321, 321]) tensor(30256.4258, grad_fn=<SumBackward0>) tensor(0.9071, grad_fn=<StdBackward0>)\n",
      "fl_pre_scores (321, 321, 4) 30256.422 0.9070506\n"
     ]
    }
   ],
   "source": [
    "valueprint(pre_posemb_attention_scores, \"my_pre_scores\")\n",
    "valueprint(MHAttention_scores, \"fl_pre_scores\")\n"
   ]
  },
  {
   "cell_type": "code",
   "execution_count": 10,
   "metadata": {},
   "outputs": [
    {
     "name": "stdout",
     "output_type": "stream",
     "text": [
      "my_post_scores torch.Size([1, 4, 321, 321]) tensor(87989.8203, grad_fn=<SumBackward0>) tensor(0.9126, grad_fn=<StdBackward0>)\n",
      "fl_post_scores (321, 321, 4) 87683.41 0.91226983\n"
     ]
    }
   ],
   "source": [
    "# considering the above to be the same, now consider:\n",
    "\n",
    "valueprint(post_posemb_attention_scores, \"my_post_scores\")\n",
    "valueprint(MHAttention_result, \"fl_post_scores\")"
   ]
  },
  {
   "cell_type": "code",
   "execution_count": 11,
   "metadata": {},
   "outputs": [],
   "source": [
    "# it's off by a non trivial amount. So this is the source of error."
   ]
  },
  {
   "cell_type": "code",
   "execution_count": 12,
   "metadata": {},
   "outputs": [],
   "source": [
    "MHAttention_q = af.array.read_array(\"OUTPUT_TRF.arr\", key=\"MHAttention_q\").to_ndarray()\n",
    "MHAttention_scores = af.array.read_array(\"OUTPUT_TRF.arr\", key=\"MHAttention_scores\").to_ndarray()\n",
    "MHAttention_matmulPos = af.array.read_array(\"OUTPUT_TRF.arr\", key=\"MHAttention_matmulPos\").to_ndarray()\n",
    "MHAttention_pscores = af.array.read_array(\"OUTPUT_TRF.arr\", key=\"MHAttention_pscores\").to_ndarray()\n",
    "MHAttention_pscores_transposed = af.array.read_array(\"OUTPUT_TRF.arr\", key=\"MHAttention_pscores_transposed\").to_ndarray()\n",
    "MHAttention_pscores_scores = af.array.read_array(\"OUTPUT_TRF.arr\", key=\"MHAttention_pscores_scores\").to_ndarray()\n"
   ]
  },
  {
   "cell_type": "code",
   "execution_count": 13,
   "metadata": {},
   "outputs": [],
   "source": [
    "# MHAttention_scores\n",
    "pre_posemb_attention_scores = save_dict[\"pre_posemb_attention_scores\"]\n",
    "\n",
    "# MHAttention_pscores_transposed\n",
    "positional_embedding = save_dict[\"positional_embedding\"]\n",
    "relative_position_scores = save_dict[\"relative_position_scores\"]\n",
    "\n",
    "# MHAttention_pscores_scores\n",
    "post_posemb_attention_scores = save_dict[\"post_posemb_attention_scores\"]"
   ]
  },
  {
   "cell_type": "code",
   "execution_count": 14,
   "metadata": {},
   "outputs": [
    {
     "name": "stdout",
     "output_type": "stream",
     "text": [
      "None torch.Size([1, 4, 321, 321]) tensor(30256.4258, grad_fn=<SumBackward0>) tensor(0.9071, grad_fn=<StdBackward0>)\n",
      "None (321, 321, 4) 30256.422 0.9070506\n"
     ]
    }
   ],
   "source": [
    "# the attn scores before relative position embeddings work out\n",
    "valueprint(pre_posemb_attention_scores)\n",
    "valueprint(MHAttention_scores)"
   ]
  },
  {
   "cell_type": "code",
   "execution_count": 15,
   "metadata": {},
   "outputs": [
    {
     "name": "stdout",
     "output_type": "stream",
     "text": [
      "\n",
      "None (2159, 321, 4) -85057.44 0.12701775\n",
      "None torch.Size([2159, 321, 4]) tensor(-85057.4453) tensor(0.1270)\n",
      "\n",
      "None (321, 321, 4) 57426.992 0.19243532\n",
      "None torch.Size([321, 321, 4]) tensor(57426.9961) tensor(0.1924)\n"
     ]
    }
   ],
   "source": [
    "query_layer = save_dict[\"query_layer\"]\n",
    "n = torch.Tensor(MHAttention_matmulPos).size(0) // 2 - 0\n",
    "\n",
    "\n",
    "def reshape_fortran(x, shape):\n",
    "    if len(x.shape) > 0:\n",
    "        x = x.permute(*reversed(range(len(x.shape))))\n",
    "    return x.reshape(*reversed(shape)).permute(*reversed(range(len(shape))))\n",
    "\n",
    "def relativePositionEmbeddingRotate(data):\n",
    "    d0, d1, d2 = data.shape\n",
    "    \n",
    "    # data = af::join(0, data, af::constant(0.0, d1, d1, d2, d3, data.type()));\n",
    "    data = torch.cat((data, torch.zeros((d1, d1, d2))), dim=0)\n",
    "\n",
    "    # data = af::moddims(data, af::dim4((d0 + d1) * d1, 1, d2, d3));\n",
    "    # data = data.reshape()\n",
    "    data = reshape_fortran(data, [(d0 + d1) * d1, 1, d2])\n",
    "    # data = data.numpy().reshape((d0 + d1) * d1, 1, d2,order='F')\n",
    "\n",
    "\n",
    "    # data = data.rows(0, (d1 + d0 - 1) * d1 - 1);\n",
    "    data = data[:(d1 + d0 - 1) * d1]\n",
    "\n",
    "    # data = af::moddims(data, af::dim4(d0 + d1 - 1, d1, d2, d3));\n",
    "    data = reshape_fortran(data, [d0 + d1 - 1, d1, d2])\n",
    "\n",
    "    return data\n",
    "\n",
    "def rel_then_transpose(relEmbs):\n",
    "    relEmbs = relEmbs[n:n+query_layer.size(2)].transpose(0, 1)\n",
    "    return relEmbs\n",
    "\n",
    "matmulPos = torch.Tensor(MHAttention_matmulPos)\n",
    "manual_rel = relativePositionEmbeddingRotate(matmulPos)\n",
    "print()\n",
    "valueprint(MHAttention_pscores)\n",
    "valueprint(manual_rel)\n",
    "print()\n",
    "manual_rel_transposed = rel_then_transpose(manual_rel)\n",
    "valueprint(MHAttention_pscores_transposed)\n",
    "valueprint(manual_rel_transposed)"
   ]
  },
  {
   "cell_type": "code",
   "execution_count": 16,
   "metadata": {},
   "outputs": [
    {
     "name": "stderr",
     "output_type": "stream",
     "text": [
      "Clipping input data to the valid range for imshow with RGB data ([0..1] for floats or [0..255] for integers).\n",
      "Clipping input data to the valid range for imshow with RGB data ([0..1] for floats or [0..255] for integers).\n"
     ]
    },
    {
     "name": "stdout",
     "output_type": "stream",
     "text": [
      "(1839, 321, 4)\n"
     ]
    },
    {
     "data": {
      "text/plain": [
       "<Figure size 432x720 with 0 Axes>"
      ]
     },
     "metadata": {},
     "output_type": "display_data"
    },
    {
     "data": {
      "image/png": "[encoded data removed]",
      "text/plain": [
       "<Figure size 432x288 with 2 Axes>"
      ]
     },
     "metadata": {
      "needs_background": "light"
     },
     "output_type": "display_data"
    }
   ],
   "source": [
    "import matplotlib.pyplot as plt\n",
    "\n",
    "\n",
    "fig = plt.figure(figsize=(6, 10))\n",
    "\n",
    "\n",
    "fig, axs = plt.subplots(1, 2)\n",
    "# fig.suptitle('Vertically stacked subplots')\n",
    "# axs[0].plot(x, y)\n",
    "# axs[1].plot(x, -y)\n",
    "\n",
    "# modified = manual_rel.transpose(0,1).reshape([2159, 321, 4])\n",
    "axs[0].imshow(MHAttention_pscores_transposed)\n",
    "axs[1].imshow(manual_rel_transposed)\n",
    "# axs[2].imshow(MHAttention_matmulPos)\n",
    "print(MHAttention_matmulPos.shape)"
   ]
  },
  {
   "cell_type": "code",
   "execution_count": 17,
   "metadata": {},
   "outputs": [
    {
     "name": "stdout",
     "output_type": "stream",
     "text": [
      "None (1839, 384, 4) -1679.4205 0.07376087\n",
      "None (321, 384, 4) 256.14188 0.022112375\n",
      "None (1839, 321, 4) -85057.48 0.13692527\n"
     ]
    }
   ],
   "source": [
    "# relative position function done, now need to figure out getting to MHAttention_matmulPos\n",
    "'''\n",
    "auto matmulPos = matmulNT(posEmb.as(q.type()), q);\n",
    "\n",
    "arr = matmulPos.array();\n",
    "af::saveArray(\"MHAttention_matmulPos\", arr, savePathChar, true); \n",
    "'''\n",
    "# posEmb from above\n",
    "selfAttention_posEmb = af.array.read_array(\"OUTPUT_TRF.arr\", key=\"selfAttention_posEmb\").to_ndarray()\n",
    "\n",
    "# q from above\n",
    "MHAttention_q = af.array.read_array(\"OUTPUT_TRF.arr\", key=\"MHAttention_q\").to_ndarray()\n",
    "\n",
    "# desired matmulPos\n",
    "MHAttention_matmulPos = af.array.read_array(\"OUTPUT_TRF.arr\", key=\"MHAttention_matmulPos\").to_ndarray()\n",
    "\n",
    "valueprint(selfAttention_posEmb)\n",
    "valueprint(MHAttention_q)\n",
    "valueprint(MHAttention_matmulPos)\n"
   ]
  },
  {
   "cell_type": "code",
   "execution_count": 37,
   "metadata": {},
   "outputs": [
    {
     "name": "stdout",
     "output_type": "stream",
     "text": [
      "None torch.Size([1839, 384]) tensor(-419.8552, grad_fn=<SumBackward0>) tensor(0.0738, grad_fn=<StdBackward0>)\n",
      "None torch.Size([1, 4, 321, 384]) tensor(256.1419, grad_fn=<SumBackward0>) tensor(0.0221, grad_fn=<StdBackward0>)\n"
     ]
    }
   ],
   "source": [
    "posEmb = model.mctc.encoder.layers[0].attention.self.distance_embedding.weight\n",
    "# posEmb = posEmb.unsqueeze(0).repeat(4,1,1)\n",
    "posEmb = posEmb\n",
    "query_layer = save_dict[\"query_layer\"]\n",
    "\n",
    "valueprint(posEmb)\n",
    "valueprint(query_layer)"
   ]
  },
  {
   "cell_type": "code",
   "execution_count": 38,
   "metadata": {},
   "outputs": [
    {
     "name": "stdout",
     "output_type": "stream",
     "text": [
      "torch.Size([1839, 384])\n",
      "torch.Size([1, 4, 321, 384])\n"
     ]
    }
   ],
   "source": [
    "query_format = query_layer\n",
    "print(posEmb.shape)\n",
    "print(query_format.shape)\n",
    "# my_out = torch.bmm(posEmb, query_format)\n",
    "# valueprint(my_out)\n",
    "# valueprint(MHAttention_matmulPos)"
   ]
  },
  {
   "cell_type": "code",
   "execution_count": 41,
   "metadata": {},
   "outputs": [
    {
     "name": "stdout",
     "output_type": "stream",
     "text": [
      "torch.Size([1839, 384])\n",
      "torch.Size([1, 4, 384, 321])\n",
      "None torch.Size([1, 4, 1839, 321]) tensor(-85057.4531, grad_fn=<SumBackward0>) tensor(0.1369, grad_fn=<StdBackward0>)\n"
     ]
    }
   ],
   "source": [
    "query_format = query_layer.transpose(2,3)\n",
    "posEmb_format = posEmb\n",
    "print(posEmb_format.shape)\n",
    "print(query_format.shape)\n",
    "my_out = torch.einsum('cd, abde -> abce', posEmb_format, query_format)\n",
    "\n",
    "# my_out = torch.bmm(posEmb.unsqueeze(0), query_format.unsqueeze(0))\n",
    "valueprint(my_out)\n",
    "# valueprint(MHAttention_matmulPos)"
   ]
  },
  {
   "cell_type": "code",
   "execution_count": 45,
   "metadata": {},
   "outputs": [
    {
     "name": "stdout",
     "output_type": "stream",
     "text": [
      "matmulPos torch.Size([1, 1839, 321, 4])\n",
      "\n",
      "None (2159, 321, 4) -85057.44 0.12701775\n",
      "None torch.Size([1, 2159, 321, 4]) tensor(-85057.4453) tensor(0.1270)\n",
      "\n",
      "None (321, 321, 4) 57426.992 0.19243532\n",
      "None torch.Size([1, 321, 321, 4]) tensor(57426.9961) tensor(0.1924)\n"
     ]
    }
   ],
   "source": [
    "query_layer = save_dict[\"query_layer\"]\n",
    "n = torch.Tensor(MHAttention_matmulPos).size(0) // 2 - 0\n",
    "\n",
    "\n",
    "def reshape_fortran(x, shape):\n",
    "    if len(x.shape) > 0:\n",
    "        x = x.permute(*reversed(range(len(x.shape))))\n",
    "    return x.reshape(*reversed(shape)).permute(*reversed(range(len(shape))))\n",
    "\n",
    "def relativePositionEmbeddingRotate(data):\n",
    "    b, d0, d1, d2 = data.shape\n",
    "    \n",
    "    # data = af::join(0, data, af::constant(0.0, d1, d1, d2, d3, data.type()));\n",
    "    data = torch.cat((data, torch.zeros((b, d1, d1, d2))), dim=1)\n",
    "\n",
    "    # data = af::moddims(data, af::dim4((d0 + d1) * d1, 1, d2, d3));\n",
    "    # data = data.reshape()\n",
    "    data = reshape_fortran(data, [b, (d0 + d1) * d1, 1, d2])\n",
    "    # data = data.numpy().reshape((d0 + d1) * d1, 1, d2,order='F')\n",
    "\n",
    "\n",
    "    # data = data.rows(0, (d1 + d0 - 1) * d1 - 1);\n",
    "    data = data[:, :(d1 + d0 - 1) * d1]\n",
    "\n",
    "    # data = af::moddims(data, af::dim4(d0 + d1 - 1, d1, d2, d3));\n",
    "    data = reshape_fortran(data, [b, d0 + d1 - 1, d1, d2])\n",
    "\n",
    "    return data\n",
    "\n",
    "def rel_then_transpose(relEmbs):\n",
    "    relEmbs = relEmbs[:, n:n+query_layer.size(2)].transpose(1, 2)\n",
    "    return relEmbs\n",
    "\n",
    "matmulPos = torch.Tensor(MHAttention_matmulPos).unsqueeze(0)\n",
    "print(\"matmulPos\", matmulPos.shape)\n",
    "manual_rel = relativePositionEmbeddingRotate(matmulPos)\n",
    "print()\n",
    "valueprint(MHAttention_pscores)\n",
    "valueprint(manual_rel)\n",
    "print()\n",
    "manual_rel_transposed = rel_then_transpose(manual_rel)\n",
    "valueprint(MHAttention_pscores_transposed)\n",
    "valueprint(manual_rel_transposed)"
   ]
  },
  {
   "cell_type": "code",
   "execution_count": 2,
   "metadata": {},
   "outputs": [],
   "source": [
    "# testing again after chaning MCTCSelfOutput to this differnt way flashlight seems to do things\n",
    "\n",
    "# testing after fixing the model & weights\n",
    "import torch\n",
    "from transformers import MCTCForCTC, MCTCProcessor, MCTCConfig\n",
    "config = MCTCConfig()\n",
    "model = MCTCForCTC(config)\n",
    "model.load_state_dict(torch.load(\"./ported_pytorch_model.bin\"))\n",
    "model = model.eval()\n",
    "our_attn = model.mctc.encoder.layers[0].attention\n",
    "first_layer = model.mctc.encoder.layers[0]\n"
   ]
  },
  {
   "cell_type": "code",
   "execution_count": 17,
   "metadata": {},
   "outputs": [
    {
     "name": "stdout",
     "output_type": "stream",
     "text": [
      "torch.Size([1, 321, 1536]) INPUT\n",
      "attention_scores torch.Size([1, 4, 321, 321]) tensor(87683.4148, dtype=torch.float64, grad_fn=<SumBackward0>) tensor(0.9123, dtype=torch.float64, grad_fn=<StdBackward0>)\n",
      "value_layer torch.Size([1, 4, 321, 384]) tensor(-995.1271, dtype=torch.float64, grad_fn=<SumBackward0>) tensor(0.1639, dtype=torch.float64, grad_fn=<StdBackward0>)\n",
      "context_layer torch.Size([1, 4, 321, 384]) tensor(-1017.8953, dtype=torch.float64, grad_fn=<SumBackward0>) tensor(0.0613, dtype=torch.float64, grad_fn=<StdBackward0>)\n"
     ]
    }
   ],
   "source": [
    "# lets take a deeper look.\n",
    "import arrayfire as af\n",
    "\n",
    "model = model.double()\n",
    "layer_x = af.array.read_array(\"OUTPUT_TRF.arr\", key=\"layer_x\").to_ndarray()\n",
    "\n",
    "def valueprint(k, name=None):\n",
    "    print(name, k.shape, k.sum(), k.std())\n",
    "our_output = torch.tensor(layer_x, dtype=torch.float64).unsqueeze(0).transpose(1,2)\n",
    "print(our_output.shape, \"INPUT\")\n",
    "context_layer, attention_scores, attention_probs, value_layer, save_dict = our_attn.self(our_output, output_attentions=True)"
   ]
  },
  {
   "cell_type": "code",
   "execution_count": 4,
   "metadata": {},
   "outputs": [
    {
     "name": "stdout",
     "output_type": "stream",
     "text": [
      "None (321, 321, 4) 87683.41 0.91226983\n"
     ]
    }
   ],
   "source": [
    "'''\n",
    "MHAttention_pscores_scores == final rel scores + query\n",
    "attention_scores torch.Size([1, 4, 321, 321]) tensor(87683.4062, grad_fn=<SumBackward0>) tensor(0.9123, grad_fn=<StdBackward0>)\n",
    "'''\n",
    "MHAttention_pscores_scores = af.array.read_array(\"OUTPUT_TRF.arr\", key=\"MHAttention_pscores_scores\").to_ndarray()\n",
    "valueprint(MHAttention_pscores_scores)\n"
   ]
  },
  {
   "cell_type": "code",
   "execution_count": 5,
   "metadata": {},
   "outputs": [
    {
     "name": "stdout",
     "output_type": "stream",
     "text": [
      "None (321, 321, 4) 1283.9999 0.0022644862\n",
      "None torch.Size([1, 4, 321, 321]) tensor(1284., grad_fn=<SumBackward0>) tensor(0.0023, grad_fn=<StdBackward0>)\n"
     ]
    }
   ],
   "source": [
    "'''Softmax of above final pscores\n",
    "'''\n",
    "MHAttention_result_attn = af.array.read_array(\"OUTPUT_TRF.arr\", key=\"MHAttention_result_attn\").to_ndarray()\n",
    "valueprint(MHAttention_result_attn)\n",
    "valueprint(attention_probs)"
   ]
  },
  {
   "cell_type": "code",
   "execution_count": 6,
   "metadata": {},
   "outputs": [
    {
     "name": "stdout",
     "output_type": "stream",
     "text": [
      "None (321, 384, 4) -1017.8952 0.061281413\n",
      "None (321, 1536) -1017.8952 0.061281413\n",
      "None torch.Size([1, 4, 321, 384]) tensor(-1017.8952, grad_fn=<SumBackward0>) tensor(0.0613, grad_fn=<StdBackward0>)\n",
      "None torch.Size([1, 321, 1536]) tensor(-1017.8953, grad_fn=<SumBackward0>) tensor(0.0613, grad_fn=<StdBackward0>)\n"
     ]
    }
   ],
   "source": [
    "'''Attn times value vector for attention over value layer\n",
    "context_layer torch.Size([1, 4, 321, 384]) tensor(-1017.8952, grad_fn=<SumBackward0>) tensor(0.0613, grad_fn=<StdBackward0>)\n",
    "\n",
    "auto result = matmul(attn.as(v.type()), v);\n",
    "\n",
    "af::saveArray(\"MHAttention_result_result\", result, savePathChar, true);\n",
    "\n",
    "result = moddims(result, af::dim4(-1, headDim * nHeads, bsz));\n",
    "\n",
    "af::saveArray(\"MHAttention_result_result_2\", result, savePathChar, true);\n",
    "'''\n",
    "MHAttention_result_result = af.array.read_array(\"OUTPUT_TRF.arr\", key=\"MHAttention_result_result\").to_ndarray()\n",
    "MHAttention_result_result_2 = af.array.read_array(\"OUTPUT_TRF.arr\", key=\"MHAttention_result_result_2\").to_ndarray()\n",
    "valueprint(MHAttention_result_result)\n",
    "valueprint(MHAttention_result_result_2)\n",
    "valueprint(save_dict[\"context_layer\"])\n",
    "valueprint(context_layer)"
   ]
  },
  {
   "cell_type": "code",
   "execution_count": 7,
   "metadata": {},
   "outputs": [
    {
     "name": "stdout",
     "output_type": "stream",
     "text": [
      "attention_scores torch.Size([1, 4, 321, 321]) tensor(87683.4062, grad_fn=<SumBackward0>) tensor(0.9123, grad_fn=<StdBackward0>)\n",
      "value_layer torch.Size([1, 4, 321, 384]) tensor(-995.1271, grad_fn=<SumBackward0>) tensor(0.1639, grad_fn=<StdBackward0>)\n",
      "context_layer torch.Size([1, 4, 321, 384]) tensor(-1017.8952, grad_fn=<SumBackward0>) tensor(0.0613, grad_fn=<StdBackward0>)\n",
      "SelfOUtput input torch.Size([1, 321, 1536]) tensor(-1017.8953, grad_fn=<SumBackward0>) tensor(0.0613, grad_fn=<StdBackward0>)\n",
      "SelfOUtput prenorm torch.Size([1, 1536, 321]) tensor(368.7508, grad_fn=<SumBackward0>) tensor(0.0417, grad_fn=<StdBackward0>)\n",
      "SelfOUtput input_tensor torch.Size([1, 321, 1536]) tensor(330.5734)\n"
     ]
    },
    {
     "ename": "RuntimeError",
     "evalue": "The size of tensor a (321) must match the size of tensor b (1536) at non-singleton dimension 2",
     "output_type": "error",
     "traceback": [
      "\u001b[0;31m---------------------------------------------------------------------------\u001b[0m",
      "\u001b[0;31mRuntimeError\u001b[0m                              Traceback (most recent call last)",
      "\u001b[1;32m/home/ubuntu/chanwookim/transformers/src/2_3_trf_debug.ipynb Cell 29'\u001b[0m in \u001b[0;36m<cell line: 1>\u001b[0;34m()\u001b[0m\n\u001b[0;32m----> <a href='vscode-notebook-cell://a100.1theta.com/home/ubuntu/chanwookim/transformers/src/2_3_trf_debug.ipynb#ch0000028vscode-remote?line=0'>1</a>\u001b[0m context_layer, attention_scores, attention_probs, value_layer, save_dict \u001b[39m=\u001b[39m our_attn(our_output, output_attentions\u001b[39m=\u001b[39;49m\u001b[39mTrue\u001b[39;49;00m)\n",
      "File \u001b[0;32m~/anaconda3/envs/chanwookim/lib/python3.9/site-packages/torch/nn/modules/module.py:1110\u001b[0m, in \u001b[0;36mModule._call_impl\u001b[0;34m(self, *input, **kwargs)\u001b[0m\n\u001b[1;32m   <a href='file:///home/ubuntu/anaconda3/envs/chanwookim/lib/python3.9/site-packages/torch/nn/modules/module.py?line=1105'>1106</a>\u001b[0m \u001b[39m# If we don't have any hooks, we want to skip the rest of the logic in\u001b[39;00m\n\u001b[1;32m   <a href='file:///home/ubuntu/anaconda3/envs/chanwookim/lib/python3.9/site-packages/torch/nn/modules/module.py?line=1106'>1107</a>\u001b[0m \u001b[39m# this function, and just call forward.\u001b[39;00m\n\u001b[1;32m   <a href='file:///home/ubuntu/anaconda3/envs/chanwookim/lib/python3.9/site-packages/torch/nn/modules/module.py?line=1107'>1108</a>\u001b[0m \u001b[39mif\u001b[39;00m \u001b[39mnot\u001b[39;00m (\u001b[39mself\u001b[39m\u001b[39m.\u001b[39m_backward_hooks \u001b[39mor\u001b[39;00m \u001b[39mself\u001b[39m\u001b[39m.\u001b[39m_forward_hooks \u001b[39mor\u001b[39;00m \u001b[39mself\u001b[39m\u001b[39m.\u001b[39m_forward_pre_hooks \u001b[39mor\u001b[39;00m _global_backward_hooks\n\u001b[1;32m   <a href='file:///home/ubuntu/anaconda3/envs/chanwookim/lib/python3.9/site-packages/torch/nn/modules/module.py?line=1108'>1109</a>\u001b[0m         \u001b[39mor\u001b[39;00m _global_forward_hooks \u001b[39mor\u001b[39;00m _global_forward_pre_hooks):\n\u001b[0;32m-> <a href='file:///home/ubuntu/anaconda3/envs/chanwookim/lib/python3.9/site-packages/torch/nn/modules/module.py?line=1109'>1110</a>\u001b[0m     \u001b[39mreturn\u001b[39;00m forward_call(\u001b[39m*\u001b[39;49m\u001b[39minput\u001b[39;49m, \u001b[39m*\u001b[39;49m\u001b[39m*\u001b[39;49mkwargs)\n\u001b[1;32m   <a href='file:///home/ubuntu/anaconda3/envs/chanwookim/lib/python3.9/site-packages/torch/nn/modules/module.py?line=1110'>1111</a>\u001b[0m \u001b[39m# Do not call functions when jit is used\u001b[39;00m\n\u001b[1;32m   <a href='file:///home/ubuntu/anaconda3/envs/chanwookim/lib/python3.9/site-packages/torch/nn/modules/module.py?line=1111'>1112</a>\u001b[0m full_backward_hooks, non_full_backward_hooks \u001b[39m=\u001b[39m [], []\n",
      "File \u001b[0;32m~/chanwookim/transformers/src/transformers/models/mctc/modeling_mctc.py:529\u001b[0m, in \u001b[0;36mMCTCAttention.forward\u001b[0;34m(self, hidden_states, attention_mask, head_mask, encoder_hidden_states, encoder_attention_mask, past_key_value, output_attentions)\u001b[0m\n\u001b[1;32m    <a href='file:///home/ubuntu/chanwookim/transformers/src/transformers/models/mctc/modeling_mctc.py?line=509'>510</a>\u001b[0m \u001b[39mdef\u001b[39;00m \u001b[39mforward\u001b[39m(\n\u001b[1;32m    <a href='file:///home/ubuntu/chanwookim/transformers/src/transformers/models/mctc/modeling_mctc.py?line=510'>511</a>\u001b[0m     \u001b[39mself\u001b[39m,\n\u001b[1;32m    <a href='file:///home/ubuntu/chanwookim/transformers/src/transformers/models/mctc/modeling_mctc.py?line=511'>512</a>\u001b[0m     hidden_states,\n\u001b[0;32m   (...)\u001b[0m\n\u001b[1;32m    <a href='file:///home/ubuntu/chanwookim/transformers/src/transformers/models/mctc/modeling_mctc.py?line=517'>518</a>\u001b[0m     output_attentions\u001b[39m=\u001b[39m\u001b[39mFalse\u001b[39;00m,\n\u001b[1;32m    <a href='file:///home/ubuntu/chanwookim/transformers/src/transformers/models/mctc/modeling_mctc.py?line=518'>519</a>\u001b[0m ):\n\u001b[1;32m    <a href='file:///home/ubuntu/chanwookim/transformers/src/transformers/models/mctc/modeling_mctc.py?line=519'>520</a>\u001b[0m     self_outputs \u001b[39m=\u001b[39m \u001b[39mself\u001b[39m\u001b[39m.\u001b[39mself(\n\u001b[1;32m    <a href='file:///home/ubuntu/chanwookim/transformers/src/transformers/models/mctc/modeling_mctc.py?line=520'>521</a>\u001b[0m         hidden_states,\n\u001b[1;32m    <a href='file:///home/ubuntu/chanwookim/transformers/src/transformers/models/mctc/modeling_mctc.py?line=521'>522</a>\u001b[0m         attention_mask,\n\u001b[0;32m   (...)\u001b[0m\n\u001b[1;32m    <a href='file:///home/ubuntu/chanwookim/transformers/src/transformers/models/mctc/modeling_mctc.py?line=526'>527</a>\u001b[0m         output_attentions,\n\u001b[1;32m    <a href='file:///home/ubuntu/chanwookim/transformers/src/transformers/models/mctc/modeling_mctc.py?line=527'>528</a>\u001b[0m     )\n\u001b[0;32m--> <a href='file:///home/ubuntu/chanwookim/transformers/src/transformers/models/mctc/modeling_mctc.py?line=528'>529</a>\u001b[0m     attention_output \u001b[39m=\u001b[39m \u001b[39mself\u001b[39;49m\u001b[39m.\u001b[39;49moutput(self_outputs[\u001b[39m0\u001b[39;49m], hidden_states)\n\u001b[1;32m    <a href='file:///home/ubuntu/chanwookim/transformers/src/transformers/models/mctc/modeling_mctc.py?line=529'>530</a>\u001b[0m     \u001b[39m# outputs = (attention_output,) + self_outputs[1:]  # add attentions if we output them\u001b[39;00m\n\u001b[1;32m    <a href='file:///home/ubuntu/chanwookim/transformers/src/transformers/models/mctc/modeling_mctc.py?line=530'>531</a>\u001b[0m     \n\u001b[1;32m    <a href='file:///home/ubuntu/chanwookim/transformers/src/transformers/models/mctc/modeling_mctc.py?line=531'>532</a>\u001b[0m     \u001b[39m# attention_output = self.output(self_outputs[0])\u001b[39;00m\n\u001b[1;32m    <a href='file:///home/ubuntu/chanwookim/transformers/src/transformers/models/mctc/modeling_mctc.py?line=532'>533</a>\u001b[0m     outputs \u001b[39m=\u001b[39m (attention_output,) \u001b[39m+\u001b[39m self_outputs[\u001b[39m1\u001b[39m:]  \u001b[39m# add at\u001b[39;00m\n",
      "File \u001b[0;32m~/anaconda3/envs/chanwookim/lib/python3.9/site-packages/torch/nn/modules/module.py:1110\u001b[0m, in \u001b[0;36mModule._call_impl\u001b[0;34m(self, *input, **kwargs)\u001b[0m\n\u001b[1;32m   <a href='file:///home/ubuntu/anaconda3/envs/chanwookim/lib/python3.9/site-packages/torch/nn/modules/module.py?line=1105'>1106</a>\u001b[0m \u001b[39m# If we don't have any hooks, we want to skip the rest of the logic in\u001b[39;00m\n\u001b[1;32m   <a href='file:///home/ubuntu/anaconda3/envs/chanwookim/lib/python3.9/site-packages/torch/nn/modules/module.py?line=1106'>1107</a>\u001b[0m \u001b[39m# this function, and just call forward.\u001b[39;00m\n\u001b[1;32m   <a href='file:///home/ubuntu/anaconda3/envs/chanwookim/lib/python3.9/site-packages/torch/nn/modules/module.py?line=1107'>1108</a>\u001b[0m \u001b[39mif\u001b[39;00m \u001b[39mnot\u001b[39;00m (\u001b[39mself\u001b[39m\u001b[39m.\u001b[39m_backward_hooks \u001b[39mor\u001b[39;00m \u001b[39mself\u001b[39m\u001b[39m.\u001b[39m_forward_hooks \u001b[39mor\u001b[39;00m \u001b[39mself\u001b[39m\u001b[39m.\u001b[39m_forward_pre_hooks \u001b[39mor\u001b[39;00m _global_backward_hooks\n\u001b[1;32m   <a href='file:///home/ubuntu/anaconda3/envs/chanwookim/lib/python3.9/site-packages/torch/nn/modules/module.py?line=1108'>1109</a>\u001b[0m         \u001b[39mor\u001b[39;00m _global_forward_hooks \u001b[39mor\u001b[39;00m _global_forward_pre_hooks):\n\u001b[0;32m-> <a href='file:///home/ubuntu/anaconda3/envs/chanwookim/lib/python3.9/site-packages/torch/nn/modules/module.py?line=1109'>1110</a>\u001b[0m     \u001b[39mreturn\u001b[39;00m forward_call(\u001b[39m*\u001b[39;49m\u001b[39minput\u001b[39;49m, \u001b[39m*\u001b[39;49m\u001b[39m*\u001b[39;49mkwargs)\n\u001b[1;32m   <a href='file:///home/ubuntu/anaconda3/envs/chanwookim/lib/python3.9/site-packages/torch/nn/modules/module.py?line=1110'>1111</a>\u001b[0m \u001b[39m# Do not call functions when jit is used\u001b[39;00m\n\u001b[1;32m   <a href='file:///home/ubuntu/anaconda3/envs/chanwookim/lib/python3.9/site-packages/torch/nn/modules/module.py?line=1111'>1112</a>\u001b[0m full_backward_hooks, non_full_backward_hooks \u001b[39m=\u001b[39m [], []\n",
      "File \u001b[0;32m~/chanwookim/transformers/src/transformers/models/mctc/modeling_mctc.py:480\u001b[0m, in \u001b[0;36mMCTCSelfOutput.forward\u001b[0;34m(self, hidden_states, input_tensor)\u001b[0m\n\u001b[1;32m    <a href='file:///home/ubuntu/chanwookim/transformers/src/transformers/models/mctc/modeling_mctc.py?line=477'>478</a>\u001b[0m \u001b[39mprint\u001b[39m(\u001b[39m\"\u001b[39m\u001b[39mSelfOUtput prenorm\u001b[39m\u001b[39m\"\u001b[39m, hidden_states\u001b[39m.\u001b[39mshape, hidden_states\u001b[39m.\u001b[39msum(), hidden_states\u001b[39m.\u001b[39mstd())\n\u001b[1;32m    <a href='file:///home/ubuntu/chanwookim/transformers/src/transformers/models/mctc/modeling_mctc.py?line=478'>479</a>\u001b[0m \u001b[39mprint\u001b[39m(\u001b[39m\"\u001b[39m\u001b[39mSelfOUtput input_tensor\u001b[39m\u001b[39m\"\u001b[39m, input_tensor\u001b[39m.\u001b[39mshape, input_tensor\u001b[39m.\u001b[39msum())\n\u001b[0;32m--> <a href='file:///home/ubuntu/chanwookim/transformers/src/transformers/models/mctc/modeling_mctc.py?line=479'>480</a>\u001b[0m hidden_states \u001b[39m=\u001b[39m \u001b[39mself\u001b[39m\u001b[39m.\u001b[39mLayerNorm(hidden_states \u001b[39m+\u001b[39;49m input_tensor)\n\u001b[1;32m    <a href='file:///home/ubuntu/chanwookim/transformers/src/transformers/models/mctc/modeling_mctc.py?line=480'>481</a>\u001b[0m \u001b[39mprint\u001b[39m(\u001b[39m\"\u001b[39m\u001b[39mSelfOUtput postnorm\u001b[39m\u001b[39m\"\u001b[39m, hidden_states\u001b[39m.\u001b[39mshape, hidden_states\u001b[39m.\u001b[39msum())\n\u001b[1;32m    <a href='file:///home/ubuntu/chanwookim/transformers/src/transformers/models/mctc/modeling_mctc.py?line=481'>482</a>\u001b[0m \u001b[39mreturn\u001b[39;00m hidden_states\n",
      "\u001b[0;31mRuntimeError\u001b[0m: The size of tensor a (321) must match the size of tensor b (1536) at non-singleton dimension 2"
     ]
    }
   ],
   "source": [
    "context_layer, attention_scores, attention_probs, value_layer, save_dict = our_attn(our_output, output_attentions=True)"
   ]
  },
  {
   "cell_type": "code",
   "execution_count": 8,
   "metadata": {},
   "outputs": [
    {
     "name": "stdout",
     "output_type": "stream",
     "text": [
      "None (321, 1536) -1017.8952 0.061281413\n"
     ]
    }
   ],
   "source": [
    "'''selfAttn result (same as above)\n",
    "SelfOUtput input torch.Size([1, 321, 1536]) tensor(-1017.8953, grad_fn=<SumBackward0>)\n",
    "'''\n",
    "selfAttention_result = af.array.read_array(\"OUTPUT_TRF.arr\", key=\"selfAttention_result\").to_ndarray()\n",
    "valueprint(selfAttention_result)\n"
   ]
  },
  {
   "cell_type": "code",
   "execution_count": 9,
   "metadata": {},
   "outputs": [
    {
     "name": "stdout",
     "output_type": "stream",
     "text": [
      "None (1536, 1536) -44.906384 0.017451134\n"
     ]
    }
   ],
   "source": [
    "'''wf*selfAttn result\n",
    "\n",
    "af::saveArray(\"selfAttention_result\", arr, savePathChar, true); \n",
    "\n",
    "result = (*wf_)(transpose(result));\n",
    "\n",
    "arr = result.array();\n",
    "\n",
    "af::saveArray(\"selfAttention_result_2\", arr, savePathChar, true); \n",
    "\n",
    "SelfOUtput prenorm torch.Size([1, 321, 1536]) tensor(-46.2676, grad_fn=<SumBackward0>)\n",
    "'''\n",
    "selfAttention_wf_ = af.array.read_array(\"OUTPUT_TRF.arr\", key=\"selfAttention_wf_\").to_ndarray()\n",
    "selfAttention_result_2 = af.array.read_array(\"OUTPUT_TRF.arr\", key=\"selfAttention_result_2\").to_ndarray()\n",
    "valueprint(selfAttention_wf_)\n",
    "# valueprint(selfAttention_result_2)\n"
   ]
  },
  {
   "cell_type": "code",
   "execution_count": 18,
   "metadata": {},
   "outputs": [
    {
     "name": "stdout",
     "output_type": "stream",
     "text": [
      "None (1536, 1536) -44.906384 0.017451134\n",
      "None torch.Size([1536, 1536]) tensor(-44.9064, dtype=torch.float64, grad_fn=<SumBackward0>) tensor(0.0175, dtype=torch.float64, grad_fn=<StdBackward0>)\n",
      "\n",
      "None (321, 1536) -1017.8952 0.061281413\n",
      "None torch.Size([1, 321, 1536]) tensor(-1017.8953, dtype=torch.float64, grad_fn=<SumBackward0>) tensor(0.0613, dtype=torch.float64, grad_fn=<StdBackward0>)\n"
     ]
    }
   ],
   "source": [
    "my_wf = model.mctc.encoder.layers[0].attention.output.dense.weight\n",
    "my_result = context_layer\n",
    "\n",
    "valueprint(selfAttention_wf_)\n",
    "valueprint(my_wf)\n",
    "print()\n",
    "valueprint(selfAttention_result)\n",
    "valueprint(my_result)"
   ]
  },
  {
   "cell_type": "code",
   "execution_count": 23,
   "metadata": {},
   "outputs": [
    {
     "name": "stdout",
     "output_type": "stream",
     "text": [
      "5.745828752590221e-05 1.1653501331674741e-10\n"
     ]
    }
   ],
   "source": [
    "diff = selfAttention_result - my_result.detach().numpy()\n",
    "print(diff.sum(), diff.mean())"
   ]
  },
  {
   "cell_type": "code",
   "execution_count": 25,
   "metadata": {},
   "outputs": [
    {
     "name": "stdout",
     "output_type": "stream",
     "text": [
      "None (1536, 321) 25.706522 0.1094709\n",
      "None torch.Size([1536, 321]) tensor(25.7065, dtype=torch.float64) tensor(0.1095, dtype=torch.float64)\n",
      "None torch.Size([1, 1536, 321]) tensor(368.7508, dtype=torch.float64) tensor(0.0417, dtype=torch.float64)\n"
     ]
    },
    {
     "name": "stderr",
     "output_type": "stream",
     "text": [
      "/tmp/ipykernel_5860/1584567683.py:2: UserWarning: To copy construct from a tensor, it is recommended to use sourceTensor.clone().detach() or sourceTensor.clone().detach().requires_grad_(True), rather than torch.tensor(sourceTensor).\n",
      "  hidden_states_gold = torch.matmul(torch.tensor(my_wf, dtype=torch.float64), torch.tensor(selfAttention_result, dtype=torch.float64).transpose(-1, -2))\n",
      "/tmp/ipykernel_5860/1584567683.py:3: UserWarning: To copy construct from a tensor, it is recommended to use sourceTensor.clone().detach() or sourceTensor.clone().detach().requires_grad_(True), rather than torch.tensor(sourceTensor).\n",
      "  hidden_states_mine = torch.matmul(torch.tensor(my_wf, dtype=torch.float64), torch.tensor(my_result, dtype=torch.float64).transpose(-1, -2))\n"
     ]
    }
   ],
   "source": [
    "# hidden_states = torch.einsum('hh, he -> he', torch.Tensor(selfAttention_wf_), torch.Tensor(selfAttention_result).transpose(-1, -2))\n",
    "hidden_states_gold = torch.matmul(torch.tensor(my_wf, dtype=torch.float64), torch.tensor(selfAttention_result, dtype=torch.float64).transpose(-1, -2))\n",
    "hidden_states_mine = torch.matmul(torch.tensor(my_wf, dtype=torch.float64), torch.tensor(my_result, dtype=torch.float64).transpose(-1, -2))\n",
    "valueprint(selfAttention_result_2)\n",
    "valueprint(hidden_states_gold)\n",
    "valueprint(hidden_states_mine)"
   ]
  },
  {
   "cell_type": "code",
   "execution_count": 31,
   "metadata": {},
   "outputs": [
    {
     "name": "stdout",
     "output_type": "stream",
     "text": [
      "5.745828752590221e-05\n"
     ]
    },
    {
     "data": {
      "text/plain": [
       "<Figure size 144x1440 with 0 Axes>"
      ]
     },
     "metadata": {},
     "output_type": "display_data"
    },
    {
     "data": {
      "image/png": "[encoded data removed]",
      "text/plain": [
       "<Figure size 432x288 with 3 Axes>"
      ]
     },
     "metadata": {
      "needs_background": "light"
     },
     "output_type": "display_data"
    }
   ],
   "source": [
    "import matplotlib.pyplot as plt\n",
    "\n",
    "\n",
    "fig = plt.figure(figsize=(2, 20))\n",
    "\n",
    "\n",
    "fig, axs = plt.subplots(1, 3)\n",
    "# fig.suptitle('Vertically stacked subplots')\n",
    "# axs[0].plot(x, y)\n",
    "# axs[1].plot(x, -y)\n",
    "\n",
    "# modified = manual_rel.transpose(0,1).reshape([2159, 321, 4])\n",
    "axs[0].imshow(selfAttention_result**3)\n",
    "axs[1].imshow(my_result.squeeze(0).detach().numpy() **3)\n",
    "# axs[2].imshow(MHAttention_matmulPos)\n",
    "diff = selfAttention_result - my_result.squeeze(0).detach().numpy()\n",
    "axs[2].imshow(diff)\n",
    "print(diff.sum())\n"
   ]
  },
  {
   "cell_type": "markdown",
   "metadata": {},
   "source": []
  },
  {
   "cell_type": "code",
   "execution_count": null,
   "metadata": {},
   "outputs": [],
   "source": []
  }
 ],
 "metadata": {
  "interpreter": {
   "hash": "005f445f18c7a8bd0fe064b3495835c6fa643dca1e16cc09fc8a4180886f88ef"
  },
  "kernelspec": {
   "display_name": "Python 3.9.11 ('chanwookim')",
   "language": "python",
   "name": "python3"
  },
  "language_info": {
   "codemirror_mode": {
    "name": "ipython",
    "version": 3
   },
   "file_extension": ".py",
   "mimetype": "text/x-python",
   "name": "python",
   "nbconvert_exporter": "python",
   "pygments_lexer": "ipython3",
   "version": "3.9.11"
  },
  "orig_nbformat": 4
 },
 "nbformat": 4,
 "nbformat_minor": 2
}
