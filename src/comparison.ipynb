{
 "cells": [
  {
   "cell_type": "markdown",
   "metadata": {},
   "source": [
    "## Load input & outputs at each layer"
   ]
  },
  {
   "cell_type": "code",
   "execution_count": 1,
   "metadata": {},
   "outputs": [],
   "source": [
    "import arrayfire as af\n",
    "\n",
    "# in order\n",
    "keys = [\n",
    "    \"model_input\",\n",
    "    \"conv_output\", \"misc_padMask\",\n",
    "] \n",
    "for i in range(36):\n",
    "    keys.append(f\"trf_input_{i}\")\n",
    "    keys.append(f\"trf_output_{i}\")\n",
    "\n",
    "keys = keys + [\n",
    "    \"ctc_head_input\",\n",
    "    \"ctc_head_output\"\n",
    "]\n",
    "    \n",
    "layer_lookup = {}\n",
    "for key in keys:\n",
    "    arr = af.array.read_array(\"OUTPUT.arr\", key=key).to_ndarray()\n",
    "    layer_lookup[key] = arr\n"
   ]
  },
  {
   "cell_type": "markdown",
   "metadata": {},
   "source": [
    "## Load Each Step of input -> features\n"
   ]
  },
  {
   "cell_type": "code",
   "execution_count": 5,
   "metadata": {},
   "outputs": [],
   "source": [
    "# not all these are possible (due to branching process in the code)\n",
    "ft_keys_possib = [\"input_raw\", \"input_raw_2\", \"input_raw_3\", \n",
    "    \"input_transpose2d\", \n",
    "    \"output_POW_SPECTRUM\", \"output_MFSC\", \"output_MFCC\", \"output_RAW\",\n",
    "    \"output_T_then_transpose\", \n",
    "    \"output_localNormalize\", \"output_normalize\",\n",
    "    \"output_finalOutput\"\n",
    "]  \n",
    "ft_lookup = {}\n",
    "for ftkey in ft_keys_possib:\n",
    "    try:\n",
    "        arr = af.array.read_array(\"FEATURES.arr\", key=ftkey).to_ndarray()\n",
    "        ft_lookup[ftkey] = arr\n",
    "    except:\n",
    "        pass"
   ]
  },
  {
   "cell_type": "code",
   "execution_count": 6,
   "metadata": {},
   "outputs": [
    {
     "data": {
      "text/plain": [
       "dict_keys(['input_raw', 'input_raw_2', 'input_raw_3', 'output_MFSC', 'output_T_then_transpose', 'output_normalize', 'output_finalOutput'])"
      ]
     },
     "execution_count": 6,
     "metadata": {},
     "output_type": "execute_result"
    }
   ],
   "source": [
    "ft_lookup.keys()"
   ]
  },
  {
   "cell_type": "code",
   "execution_count": 84,
   "metadata": {},
   "outputs": [],
   "source": [
    "import torch\n",
    "import numpy as np\n",
    "from transformers import MCTCForCTC, MCTCProcessor, MCTCConfig\n",
    "from datasets import load_dataset, load_metric, Audio, Dataset\n",
    "\n",
    "config = MCTCConfig()\n",
    "model = MCTCForCTC(config)\n",
    "model = model.load_state_dict(torch.load(\"./ported_pytorch_model.bin\"))\n",
    "# processor = MCTCProcessor.from_pretrained(\"cwkeam/mctc-large\")"
   ]
  },
  {
   "cell_type": "code",
   "execution_count": null,
   "metadata": {},
   "outputs": [],
   "source": [
    "feature_inputs = torch.Tensor(ft_lookup[\"output_finalOutput\"])\n",
    "model_inputs = torch.Tensor(layer_lookup[\"model_input\"])\n",
    "conv_output = layer_lookup[\"conv_output\"]"
   ]
  },
  {
   "cell_type": "code",
   "execution_count": null,
   "metadata": {},
   "outputs": [],
   "source": [
    "print(model_inputs.sum(), feature_inputs.sum())"
   ]
  },
  {
   "cell_type": "code",
   "execution_count": 79,
   "metadata": {},
   "outputs": [
    {
     "name": "stdout",
     "output_type": "stream",
     "text": [
      "first_layer_norm LayerNorm((80,), eps=1e-05, elementwise_affine=True)\n",
      "first_layer_conv Conv1dSubsampler(\n",
      "  (dropout): Dropout(p=0.3, inplace=False)\n",
      "  (conv_layers): ModuleList(\n",
      "    (0): Conv1d(80, 3072, kernel_size=(7,), stride=(3,), padding=valid)\n",
      "  )\n",
      ")\n"
     ]
    }
   ],
   "source": [
    "model.eval()\n",
    "\n",
    "first_layer_norm = model.mctc.encoder.layer_norm.eval()\n",
    "first_layer_conv = model.mctc.encoder.conv.eval()\n",
    "print(\"first_layer_norm\", first_layer_norm)\n",
    "print(\"first_layer_conv\", first_layer_conv)"
   ]
  },
  {
   "cell_type": "code",
   "execution_count": 82,
   "metadata": {},
   "outputs": [
    {
     "name": "stdout",
     "output_type": "stream",
     "text": [
      "feature_inputs_batch torch.Size([1, 961, 80])\n",
      "feature_inputs_batch torch.Size([1, 967, 80])\n",
      "my_conv_output torch.Size([1, 967, 80])\n",
      "my_conv_output torch.Size([1536, 321]) tensor(-386.5894, grad_fn=<SumBackward0>)\n",
      "ft_conv_output (1536, 321) 330.57333\n"
     ]
    }
   ],
   "source": [
    "feature_inputs_batch = feature_inputs.unsqueeze(0)\n",
    "print(\"feature_inputs_batch\", feature_inputs_batch.shape)\n",
    "feature_inputs_batch = torch.nn.functional.pad(feature_inputs_batch, (0,0,3,3), \"constant\", 0)\n",
    "print(\"feature_inputs_batch\", feature_inputs_batch.shape)\n",
    "my_conv_output = first_layer_norm(feature_inputs_batch)\n",
    "print(\"my_conv_output\", my_conv_output.shape)\n",
    "my_conv_output = first_layer_conv(my_conv_output)\n",
    "my_conv_output = my_conv_output[0].transpose(0,1)\n",
    "print(\"my_conv_output\", my_conv_output.shape, my_conv_output.sum())\n",
    "print(\"ft_conv_output\", conv_output.shape, conv_output.sum())"
   ]
  },
  {
   "cell_type": "code",
   "execution_count": 83,
   "metadata": {},
   "outputs": [
    {
     "name": "stdout",
     "output_type": "stream",
     "text": [
      "tensor(0.2657, grad_fn=<UnbindBackward0>) 0.07035182\n",
      "tensor(0.1323, grad_fn=<UnbindBackward0>) 0.008384018\n",
      "tensor(-0.2081, grad_fn=<UnbindBackward0>) -0.11530824\n",
      "tensor(0.0091, grad_fn=<UnbindBackward0>) -0.033328082\n",
      "tensor(0.0477, grad_fn=<UnbindBackward0>) -0.012838049\n",
      "tensor(-0.1239, grad_fn=<UnbindBackward0>) -0.093559034\n",
      "tensor(0.2770, grad_fn=<UnbindBackward0>) 0.10090502\n",
      "tensor(0.1052, grad_fn=<UnbindBackward0>) 0.0055681327\n",
      "tensor(0.1420, grad_fn=<UnbindBackward0>) -0.07093749\n",
      "tensor(-0.1696, grad_fn=<UnbindBackward0>) -0.04261394\n"
     ]
    }
   ],
   "source": [
    "for x, y in list(zip(my_conv_output.flatten(), conv_output.flatten()))[1000:1010]:\n",
    "    print(x,y)"
   ]
  },
  {
   "cell_type": "code",
   "execution_count": 33,
   "metadata": {},
   "outputs": [
    {
     "name": "stdout",
     "output_type": "stream",
     "text": [
      "tensor(564.0670, grad_fn=<SumBackward0>)\n",
      "330.57333\n"
     ]
    }
   ],
   "source": []
  },
  {
   "cell_type": "code",
   "execution_count": 37,
   "metadata": {},
   "outputs": [
    {
     "name": "stdout",
     "output_type": "stream",
     "text": [
      "dict_keys(['model_input', 'conv_output', 'misc_padMask', 'trf_input_0', 'trf_output_0', 'trf_input_1', 'trf_output_1', 'trf_input_2', 'trf_output_2', 'trf_input_3', 'trf_output_3', 'trf_input_4', 'trf_output_4', 'trf_input_5', 'trf_output_5', 'trf_input_6', 'trf_output_6', 'trf_input_7', 'trf_output_7', 'trf_input_8', 'trf_output_8', 'trf_input_9', 'trf_output_9', 'trf_input_10', 'trf_output_10', 'trf_input_11', 'trf_output_11', 'trf_input_12', 'trf_output_12', 'trf_input_13', 'trf_output_13', 'trf_input_14', 'trf_output_14', 'trf_input_15', 'trf_output_15', 'trf_input_16', 'trf_output_16', 'trf_input_17', 'trf_output_17', 'trf_input_18', 'trf_output_18', 'trf_input_19', 'trf_output_19', 'trf_input_20', 'trf_output_20', 'trf_input_21', 'trf_output_21', 'trf_input_22', 'trf_output_22', 'trf_input_23', 'trf_output_23', 'trf_input_24', 'trf_output_24', 'trf_input_25', 'trf_output_25', 'trf_input_26', 'trf_output_26', 'trf_input_27', 'trf_output_27', 'trf_input_28', 'trf_output_28', 'trf_input_29', 'trf_output_29', 'trf_input_30', 'trf_output_30', 'trf_input_31', 'trf_output_31', 'trf_input_32', 'trf_output_32', 'trf_input_33', 'trf_output_33', 'trf_input_34', 'trf_output_34', 'trf_input_35', 'trf_output_35', 'ctc_head_input', 'ctc_head_output'])\n"
     ]
    }
   ],
   "source": [
    "print(layer_lookup.keys())\n",
    "ctc_head_output = layer_lookup[\"ctc_head_output\"]"
   ]
  },
  {
   "cell_type": "code",
   "execution_count": 45,
   "metadata": {},
   "outputs": [
    {
     "name": "stdout",
     "output_type": "stream",
     "text": [
      "feature_inputs torch.Size([961, 80])\n"
     ]
    }
   ],
   "source": [
    "print(\"feature_inputs\", feature_inputs.shape)\n",
    "my_ctc_out = model(feature_inputs.unsqueeze(0))"
   ]
  },
  {
   "cell_type": "code",
   "execution_count": 41,
   "metadata": {},
   "outputs": [
    {
     "data": {
      "text/plain": [
       "torch.Size([1, 319, 8065])"
      ]
     },
     "execution_count": 41,
     "metadata": {},
     "output_type": "execute_result"
    }
   ],
   "source": [
    "my_ctc_out.logits.shape"
   ]
  },
  {
   "cell_type": "code",
   "execution_count": 42,
   "metadata": {},
   "outputs": [
    {
     "data": {
      "text/plain": [
       "(8065, 321)"
      ]
     },
     "execution_count": 42,
     "metadata": {},
     "output_type": "execute_result"
    }
   ],
   "source": [
    "ctc_head_output.shape"
   ]
  },
  {
   "cell_type": "code",
   "execution_count": 44,
   "metadata": {},
   "outputs": [
    {
     "name": "stdout",
     "output_type": "stream",
     "text": [
      "8723291.0\n",
      "tensor(24259920., grad_fn=<SumBackward0>)\n"
     ]
    }
   ],
   "source": [
    "print(ctc_head_output.sum())\n",
    "print(my_ctc_out.logits.sum())\n"
   ]
  },
  {
   "cell_type": "code",
   "execution_count": 58,
   "metadata": {},
   "outputs": [
    {
     "name": "stdout",
     "output_type": "stream",
     "text": [
      "trf_input_0 torch.Size([1, 1536, 321])\n",
      "trf_output_0 torch.Size([1536, 321])\n"
     ]
    },
    {
     "ename": "RuntimeError",
     "evalue": "mat1 and mat2 shapes cannot be multiplied (1536x321 and 1536x1536)",
     "output_type": "error",
     "traceback": [
      "\u001b[0;31m---------------------------------------------------------------------------\u001b[0m",
      "\u001b[0;31mRuntimeError\u001b[0m                              Traceback (most recent call last)",
      "\u001b[1;32m/home/ubuntu/chanwookim/transformers/src/comparison.ipynb Cell 18'\u001b[0m in \u001b[0;36m<cell line: 7>\u001b[0;34m()\u001b[0m\n\u001b[1;32m      <a href='vscode-notebook-cell://a100.1theta.com/home/ubuntu/chanwookim/transformers/src/comparison.ipynb#ch0000027vscode-remote?line=4'>5</a>\u001b[0m \u001b[39mprint\u001b[39m(\u001b[39m\"\u001b[39m\u001b[39mtrf_output_0\u001b[39m\u001b[39m\"\u001b[39m, trf_output_0\u001b[39m.\u001b[39mshape)\n\u001b[1;32m      <a href='vscode-notebook-cell://a100.1theta.com/home/ubuntu/chanwookim/transformers/src/comparison.ipynb#ch0000027vscode-remote?line=5'>6</a>\u001b[0m \u001b[39m# print(model.mctc.encoder.layers[0])\u001b[39;00m\n\u001b[0;32m----> <a href='vscode-notebook-cell://a100.1theta.com/home/ubuntu/chanwookim/transformers/src/comparison.ipynb#ch0000027vscode-remote?line=6'>7</a>\u001b[0m my_output \u001b[39m=\u001b[39m model\u001b[39m.\u001b[39;49mmctc\u001b[39m.\u001b[39;49mencoder\u001b[39m.\u001b[39;49mlayers[\u001b[39m0\u001b[39;49m](trf_input_0)\n",
      "File \u001b[0;32m~/anaconda3/envs/chanwookim/lib/python3.9/site-packages/torch/nn/modules/module.py:1110\u001b[0m, in \u001b[0;36mModule._call_impl\u001b[0;34m(self, *input, **kwargs)\u001b[0m\n\u001b[1;32m   <a href='file:///home/ubuntu/anaconda3/envs/chanwookim/lib/python3.9/site-packages/torch/nn/modules/module.py?line=1105'>1106</a>\u001b[0m \u001b[39m# If we don't have any hooks, we want to skip the rest of the logic in\u001b[39;00m\n\u001b[1;32m   <a href='file:///home/ubuntu/anaconda3/envs/chanwookim/lib/python3.9/site-packages/torch/nn/modules/module.py?line=1106'>1107</a>\u001b[0m \u001b[39m# this function, and just call forward.\u001b[39;00m\n\u001b[1;32m   <a href='file:///home/ubuntu/anaconda3/envs/chanwookim/lib/python3.9/site-packages/torch/nn/modules/module.py?line=1107'>1108</a>\u001b[0m \u001b[39mif\u001b[39;00m \u001b[39mnot\u001b[39;00m (\u001b[39mself\u001b[39m\u001b[39m.\u001b[39m_backward_hooks \u001b[39mor\u001b[39;00m \u001b[39mself\u001b[39m\u001b[39m.\u001b[39m_forward_hooks \u001b[39mor\u001b[39;00m \u001b[39mself\u001b[39m\u001b[39m.\u001b[39m_forward_pre_hooks \u001b[39mor\u001b[39;00m _global_backward_hooks\n\u001b[1;32m   <a href='file:///home/ubuntu/anaconda3/envs/chanwookim/lib/python3.9/site-packages/torch/nn/modules/module.py?line=1108'>1109</a>\u001b[0m         \u001b[39mor\u001b[39;00m _global_forward_hooks \u001b[39mor\u001b[39;00m _global_forward_pre_hooks):\n\u001b[0;32m-> <a href='file:///home/ubuntu/anaconda3/envs/chanwookim/lib/python3.9/site-packages/torch/nn/modules/module.py?line=1109'>1110</a>\u001b[0m     \u001b[39mreturn\u001b[39;00m forward_call(\u001b[39m*\u001b[39;49m\u001b[39minput\u001b[39;49m, \u001b[39m*\u001b[39;49m\u001b[39m*\u001b[39;49mkwargs)\n\u001b[1;32m   <a href='file:///home/ubuntu/anaconda3/envs/chanwookim/lib/python3.9/site-packages/torch/nn/modules/module.py?line=1110'>1111</a>\u001b[0m \u001b[39m# Do not call functions when jit is used\u001b[39;00m\n\u001b[1;32m   <a href='file:///home/ubuntu/anaconda3/envs/chanwookim/lib/python3.9/site-packages/torch/nn/modules/module.py?line=1111'>1112</a>\u001b[0m full_backward_hooks, non_full_backward_hooks \u001b[39m=\u001b[39m [], []\n",
      "File \u001b[0;32m~/chanwookim/transformers/src/transformers/models/mctc/modeling_mctc.py:505\u001b[0m, in \u001b[0;36mMCTCLayer.forward\u001b[0;34m(self, hidden_states, attention_mask, head_mask, output_attentions)\u001b[0m\n\u001b[1;32m    <a href='file:///home/ubuntu/chanwookim/transformers/src/transformers/models/mctc/modeling_mctc.py?line=497'>498</a>\u001b[0m \u001b[39mdef\u001b[39;00m \u001b[39mforward\u001b[39m(\n\u001b[1;32m    <a href='file:///home/ubuntu/chanwookim/transformers/src/transformers/models/mctc/modeling_mctc.py?line=498'>499</a>\u001b[0m     \u001b[39mself\u001b[39m,\n\u001b[1;32m    <a href='file:///home/ubuntu/chanwookim/transformers/src/transformers/models/mctc/modeling_mctc.py?line=499'>500</a>\u001b[0m     hidden_states,\n\u001b[0;32m   (...)\u001b[0m\n\u001b[1;32m    <a href='file:///home/ubuntu/chanwookim/transformers/src/transformers/models/mctc/modeling_mctc.py?line=502'>503</a>\u001b[0m     output_attentions\u001b[39m=\u001b[39m\u001b[39mFalse\u001b[39;00m,\n\u001b[1;32m    <a href='file:///home/ubuntu/chanwookim/transformers/src/transformers/models/mctc/modeling_mctc.py?line=503'>504</a>\u001b[0m ):\n\u001b[0;32m--> <a href='file:///home/ubuntu/chanwookim/transformers/src/transformers/models/mctc/modeling_mctc.py?line=504'>505</a>\u001b[0m     self_attention_outputs \u001b[39m=\u001b[39m \u001b[39mself\u001b[39;49m\u001b[39m.\u001b[39;49mattention(\n\u001b[1;32m    <a href='file:///home/ubuntu/chanwookim/transformers/src/transformers/models/mctc/modeling_mctc.py?line=505'>506</a>\u001b[0m         hidden_states, attention_mask, head_mask, output_attentions\u001b[39m=\u001b[39;49moutput_attentions\n\u001b[1;32m    <a href='file:///home/ubuntu/chanwookim/transformers/src/transformers/models/mctc/modeling_mctc.py?line=506'>507</a>\u001b[0m     )\n\u001b[1;32m    <a href='file:///home/ubuntu/chanwookim/transformers/src/transformers/models/mctc/modeling_mctc.py?line=507'>508</a>\u001b[0m     attention_output \u001b[39m=\u001b[39m self_attention_outputs[\u001b[39m0\u001b[39m]\n\u001b[1;32m    <a href='file:///home/ubuntu/chanwookim/transformers/src/transformers/models/mctc/modeling_mctc.py?line=508'>509</a>\u001b[0m     outputs \u001b[39m=\u001b[39m self_attention_outputs[\u001b[39m1\u001b[39m:]  \u001b[39m# add self attentions if we output attention weights\u001b[39;00m\n",
      "File \u001b[0;32m~/anaconda3/envs/chanwookim/lib/python3.9/site-packages/torch/nn/modules/module.py:1110\u001b[0m, in \u001b[0;36mModule._call_impl\u001b[0;34m(self, *input, **kwargs)\u001b[0m\n\u001b[1;32m   <a href='file:///home/ubuntu/anaconda3/envs/chanwookim/lib/python3.9/site-packages/torch/nn/modules/module.py?line=1105'>1106</a>\u001b[0m \u001b[39m# If we don't have any hooks, we want to skip the rest of the logic in\u001b[39;00m\n\u001b[1;32m   <a href='file:///home/ubuntu/anaconda3/envs/chanwookim/lib/python3.9/site-packages/torch/nn/modules/module.py?line=1106'>1107</a>\u001b[0m \u001b[39m# this function, and just call forward.\u001b[39;00m\n\u001b[1;32m   <a href='file:///home/ubuntu/anaconda3/envs/chanwookim/lib/python3.9/site-packages/torch/nn/modules/module.py?line=1107'>1108</a>\u001b[0m \u001b[39mif\u001b[39;00m \u001b[39mnot\u001b[39;00m (\u001b[39mself\u001b[39m\u001b[39m.\u001b[39m_backward_hooks \u001b[39mor\u001b[39;00m \u001b[39mself\u001b[39m\u001b[39m.\u001b[39m_forward_hooks \u001b[39mor\u001b[39;00m \u001b[39mself\u001b[39m\u001b[39m.\u001b[39m_forward_pre_hooks \u001b[39mor\u001b[39;00m _global_backward_hooks\n\u001b[1;32m   <a href='file:///home/ubuntu/anaconda3/envs/chanwookim/lib/python3.9/site-packages/torch/nn/modules/module.py?line=1108'>1109</a>\u001b[0m         \u001b[39mor\u001b[39;00m _global_forward_hooks \u001b[39mor\u001b[39;00m _global_forward_pre_hooks):\n\u001b[0;32m-> <a href='file:///home/ubuntu/anaconda3/envs/chanwookim/lib/python3.9/site-packages/torch/nn/modules/module.py?line=1109'>1110</a>\u001b[0m     \u001b[39mreturn\u001b[39;00m forward_call(\u001b[39m*\u001b[39;49m\u001b[39minput\u001b[39;49m, \u001b[39m*\u001b[39;49m\u001b[39m*\u001b[39;49mkwargs)\n\u001b[1;32m   <a href='file:///home/ubuntu/anaconda3/envs/chanwookim/lib/python3.9/site-packages/torch/nn/modules/module.py?line=1110'>1111</a>\u001b[0m \u001b[39m# Do not call functions when jit is used\u001b[39;00m\n\u001b[1;32m   <a href='file:///home/ubuntu/anaconda3/envs/chanwookim/lib/python3.9/site-packages/torch/nn/modules/module.py?line=1111'>1112</a>\u001b[0m full_backward_hooks, non_full_backward_hooks \u001b[39m=\u001b[39m [], []\n",
      "File \u001b[0;32m~/chanwookim/transformers/src/transformers/models/mctc/modeling_mctc.py:439\u001b[0m, in \u001b[0;36mMCTCAttention.forward\u001b[0;34m(self, hidden_states, attention_mask, head_mask, encoder_hidden_states, encoder_attention_mask, past_key_value, output_attentions)\u001b[0m\n\u001b[1;32m    <a href='file:///home/ubuntu/chanwookim/transformers/src/transformers/models/mctc/modeling_mctc.py?line=428'>429</a>\u001b[0m \u001b[39mdef\u001b[39;00m \u001b[39mforward\u001b[39m(\n\u001b[1;32m    <a href='file:///home/ubuntu/chanwookim/transformers/src/transformers/models/mctc/modeling_mctc.py?line=429'>430</a>\u001b[0m     \u001b[39mself\u001b[39m,\n\u001b[1;32m    <a href='file:///home/ubuntu/chanwookim/transformers/src/transformers/models/mctc/modeling_mctc.py?line=430'>431</a>\u001b[0m     hidden_states,\n\u001b[0;32m   (...)\u001b[0m\n\u001b[1;32m    <a href='file:///home/ubuntu/chanwookim/transformers/src/transformers/models/mctc/modeling_mctc.py?line=436'>437</a>\u001b[0m     output_attentions\u001b[39m=\u001b[39m\u001b[39mFalse\u001b[39;00m,\n\u001b[1;32m    <a href='file:///home/ubuntu/chanwookim/transformers/src/transformers/models/mctc/modeling_mctc.py?line=437'>438</a>\u001b[0m ):\n\u001b[0;32m--> <a href='file:///home/ubuntu/chanwookim/transformers/src/transformers/models/mctc/modeling_mctc.py?line=438'>439</a>\u001b[0m     self_outputs \u001b[39m=\u001b[39m \u001b[39mself\u001b[39;49m\u001b[39m.\u001b[39;49mself(\n\u001b[1;32m    <a href='file:///home/ubuntu/chanwookim/transformers/src/transformers/models/mctc/modeling_mctc.py?line=439'>440</a>\u001b[0m         hidden_states,\n\u001b[1;32m    <a href='file:///home/ubuntu/chanwookim/transformers/src/transformers/models/mctc/modeling_mctc.py?line=440'>441</a>\u001b[0m         attention_mask,\n\u001b[1;32m    <a href='file:///home/ubuntu/chanwookim/transformers/src/transformers/models/mctc/modeling_mctc.py?line=441'>442</a>\u001b[0m         head_mask,\n\u001b[1;32m    <a href='file:///home/ubuntu/chanwookim/transformers/src/transformers/models/mctc/modeling_mctc.py?line=442'>443</a>\u001b[0m         encoder_hidden_states,\n\u001b[1;32m    <a href='file:///home/ubuntu/chanwookim/transformers/src/transformers/models/mctc/modeling_mctc.py?line=443'>444</a>\u001b[0m         encoder_attention_mask,\n\u001b[1;32m    <a href='file:///home/ubuntu/chanwookim/transformers/src/transformers/models/mctc/modeling_mctc.py?line=444'>445</a>\u001b[0m         past_key_value,\n\u001b[1;32m    <a href='file:///home/ubuntu/chanwookim/transformers/src/transformers/models/mctc/modeling_mctc.py?line=445'>446</a>\u001b[0m         output_attentions,\n\u001b[1;32m    <a href='file:///home/ubuntu/chanwookim/transformers/src/transformers/models/mctc/modeling_mctc.py?line=446'>447</a>\u001b[0m     )\n\u001b[1;32m    <a href='file:///home/ubuntu/chanwookim/transformers/src/transformers/models/mctc/modeling_mctc.py?line=447'>448</a>\u001b[0m     attention_output \u001b[39m=\u001b[39m \u001b[39mself\u001b[39m\u001b[39m.\u001b[39moutput(self_outputs[\u001b[39m0\u001b[39m], hidden_states)\n\u001b[1;32m    <a href='file:///home/ubuntu/chanwookim/transformers/src/transformers/models/mctc/modeling_mctc.py?line=448'>449</a>\u001b[0m     outputs \u001b[39m=\u001b[39m (attention_output,) \u001b[39m+\u001b[39m self_outputs[\u001b[39m1\u001b[39m:]  \u001b[39m# add attentions if we output them\u001b[39;00m\n",
      "File \u001b[0;32m~/anaconda3/envs/chanwookim/lib/python3.9/site-packages/torch/nn/modules/module.py:1110\u001b[0m, in \u001b[0;36mModule._call_impl\u001b[0;34m(self, *input, **kwargs)\u001b[0m\n\u001b[1;32m   <a href='file:///home/ubuntu/anaconda3/envs/chanwookim/lib/python3.9/site-packages/torch/nn/modules/module.py?line=1105'>1106</a>\u001b[0m \u001b[39m# If we don't have any hooks, we want to skip the rest of the logic in\u001b[39;00m\n\u001b[1;32m   <a href='file:///home/ubuntu/anaconda3/envs/chanwookim/lib/python3.9/site-packages/torch/nn/modules/module.py?line=1106'>1107</a>\u001b[0m \u001b[39m# this function, and just call forward.\u001b[39;00m\n\u001b[1;32m   <a href='file:///home/ubuntu/anaconda3/envs/chanwookim/lib/python3.9/site-packages/torch/nn/modules/module.py?line=1107'>1108</a>\u001b[0m \u001b[39mif\u001b[39;00m \u001b[39mnot\u001b[39;00m (\u001b[39mself\u001b[39m\u001b[39m.\u001b[39m_backward_hooks \u001b[39mor\u001b[39;00m \u001b[39mself\u001b[39m\u001b[39m.\u001b[39m_forward_hooks \u001b[39mor\u001b[39;00m \u001b[39mself\u001b[39m\u001b[39m.\u001b[39m_forward_pre_hooks \u001b[39mor\u001b[39;00m _global_backward_hooks\n\u001b[1;32m   <a href='file:///home/ubuntu/anaconda3/envs/chanwookim/lib/python3.9/site-packages/torch/nn/modules/module.py?line=1108'>1109</a>\u001b[0m         \u001b[39mor\u001b[39;00m _global_forward_hooks \u001b[39mor\u001b[39;00m _global_forward_pre_hooks):\n\u001b[0;32m-> <a href='file:///home/ubuntu/anaconda3/envs/chanwookim/lib/python3.9/site-packages/torch/nn/modules/module.py?line=1109'>1110</a>\u001b[0m     \u001b[39mreturn\u001b[39;00m forward_call(\u001b[39m*\u001b[39;49m\u001b[39minput\u001b[39;49m, \u001b[39m*\u001b[39;49m\u001b[39m*\u001b[39;49mkwargs)\n\u001b[1;32m   <a href='file:///home/ubuntu/anaconda3/envs/chanwookim/lib/python3.9/site-packages/torch/nn/modules/module.py?line=1110'>1111</a>\u001b[0m \u001b[39m# Do not call functions when jit is used\u001b[39;00m\n\u001b[1;32m   <a href='file:///home/ubuntu/anaconda3/envs/chanwookim/lib/python3.9/site-packages/torch/nn/modules/module.py?line=1111'>1112</a>\u001b[0m full_backward_hooks, non_full_backward_hooks \u001b[39m=\u001b[39m [], []\n",
      "File \u001b[0;32m~/chanwookim/transformers/src/transformers/models/mctc/modeling_mctc.py:314\u001b[0m, in \u001b[0;36mMCTCSelfAttention.forward\u001b[0;34m(self, hidden_states, attention_mask, head_mask, encoder_hidden_states, encoder_attention_mask, past_key_value, output_attentions)\u001b[0m\n\u001b[1;32m    <a href='file:///home/ubuntu/chanwookim/transformers/src/transformers/models/mctc/modeling_mctc.py?line=303'>304</a>\u001b[0m \u001b[39mdef\u001b[39;00m \u001b[39mforward\u001b[39m(\n\u001b[1;32m    <a href='file:///home/ubuntu/chanwookim/transformers/src/transformers/models/mctc/modeling_mctc.py?line=304'>305</a>\u001b[0m     \u001b[39mself\u001b[39m,\n\u001b[1;32m    <a href='file:///home/ubuntu/chanwookim/transformers/src/transformers/models/mctc/modeling_mctc.py?line=305'>306</a>\u001b[0m     hidden_states,\n\u001b[0;32m   (...)\u001b[0m\n\u001b[1;32m    <a href='file:///home/ubuntu/chanwookim/transformers/src/transformers/models/mctc/modeling_mctc.py?line=311'>312</a>\u001b[0m     output_attentions\u001b[39m=\u001b[39m\u001b[39mFalse\u001b[39;00m,\n\u001b[1;32m    <a href='file:///home/ubuntu/chanwookim/transformers/src/transformers/models/mctc/modeling_mctc.py?line=312'>313</a>\u001b[0m ):\n\u001b[0;32m--> <a href='file:///home/ubuntu/chanwookim/transformers/src/transformers/models/mctc/modeling_mctc.py?line=313'>314</a>\u001b[0m     mixed_query_layer \u001b[39m=\u001b[39m \u001b[39mself\u001b[39;49m\u001b[39m.\u001b[39;49mquery(hidden_states)\n\u001b[1;32m    <a href='file:///home/ubuntu/chanwookim/transformers/src/transformers/models/mctc/modeling_mctc.py?line=315'>316</a>\u001b[0m     \u001b[39m# If this is instantiated as a cross-attention module, the keys\u001b[39;00m\n\u001b[1;32m    <a href='file:///home/ubuntu/chanwookim/transformers/src/transformers/models/mctc/modeling_mctc.py?line=316'>317</a>\u001b[0m     \u001b[39m# and values come from an encoder; the attention mask needs to be\u001b[39;00m\n\u001b[1;32m    <a href='file:///home/ubuntu/chanwookim/transformers/src/transformers/models/mctc/modeling_mctc.py?line=317'>318</a>\u001b[0m     \u001b[39m# such that the encoder's padding tokens are not attended to.\u001b[39;00m\n\u001b[1;32m    <a href='file:///home/ubuntu/chanwookim/transformers/src/transformers/models/mctc/modeling_mctc.py?line=318'>319</a>\u001b[0m     is_cross_attention \u001b[39m=\u001b[39m encoder_hidden_states \u001b[39mis\u001b[39;00m \u001b[39mnot\u001b[39;00m \u001b[39mNone\u001b[39;00m\n",
      "File \u001b[0;32m~/anaconda3/envs/chanwookim/lib/python3.9/site-packages/torch/nn/modules/module.py:1110\u001b[0m, in \u001b[0;36mModule._call_impl\u001b[0;34m(self, *input, **kwargs)\u001b[0m\n\u001b[1;32m   <a href='file:///home/ubuntu/anaconda3/envs/chanwookim/lib/python3.9/site-packages/torch/nn/modules/module.py?line=1105'>1106</a>\u001b[0m \u001b[39m# If we don't have any hooks, we want to skip the rest of the logic in\u001b[39;00m\n\u001b[1;32m   <a href='file:///home/ubuntu/anaconda3/envs/chanwookim/lib/python3.9/site-packages/torch/nn/modules/module.py?line=1106'>1107</a>\u001b[0m \u001b[39m# this function, and just call forward.\u001b[39;00m\n\u001b[1;32m   <a href='file:///home/ubuntu/anaconda3/envs/chanwookim/lib/python3.9/site-packages/torch/nn/modules/module.py?line=1107'>1108</a>\u001b[0m \u001b[39mif\u001b[39;00m \u001b[39mnot\u001b[39;00m (\u001b[39mself\u001b[39m\u001b[39m.\u001b[39m_backward_hooks \u001b[39mor\u001b[39;00m \u001b[39mself\u001b[39m\u001b[39m.\u001b[39m_forward_hooks \u001b[39mor\u001b[39;00m \u001b[39mself\u001b[39m\u001b[39m.\u001b[39m_forward_pre_hooks \u001b[39mor\u001b[39;00m _global_backward_hooks\n\u001b[1;32m   <a href='file:///home/ubuntu/anaconda3/envs/chanwookim/lib/python3.9/site-packages/torch/nn/modules/module.py?line=1108'>1109</a>\u001b[0m         \u001b[39mor\u001b[39;00m _global_forward_hooks \u001b[39mor\u001b[39;00m _global_forward_pre_hooks):\n\u001b[0;32m-> <a href='file:///home/ubuntu/anaconda3/envs/chanwookim/lib/python3.9/site-packages/torch/nn/modules/module.py?line=1109'>1110</a>\u001b[0m     \u001b[39mreturn\u001b[39;00m forward_call(\u001b[39m*\u001b[39;49m\u001b[39minput\u001b[39;49m, \u001b[39m*\u001b[39;49m\u001b[39m*\u001b[39;49mkwargs)\n\u001b[1;32m   <a href='file:///home/ubuntu/anaconda3/envs/chanwookim/lib/python3.9/site-packages/torch/nn/modules/module.py?line=1110'>1111</a>\u001b[0m \u001b[39m# Do not call functions when jit is used\u001b[39;00m\n\u001b[1;32m   <a href='file:///home/ubuntu/anaconda3/envs/chanwookim/lib/python3.9/site-packages/torch/nn/modules/module.py?line=1111'>1112</a>\u001b[0m full_backward_hooks, non_full_backward_hooks \u001b[39m=\u001b[39m [], []\n",
      "File \u001b[0;32m~/anaconda3/envs/chanwookim/lib/python3.9/site-packages/torch/nn/modules/linear.py:103\u001b[0m, in \u001b[0;36mLinear.forward\u001b[0;34m(self, input)\u001b[0m\n\u001b[1;32m    <a href='file:///home/ubuntu/anaconda3/envs/chanwookim/lib/python3.9/site-packages/torch/nn/modules/linear.py?line=101'>102</a>\u001b[0m \u001b[39mdef\u001b[39;00m \u001b[39mforward\u001b[39m(\u001b[39mself\u001b[39m, \u001b[39minput\u001b[39m: Tensor) \u001b[39m-\u001b[39m\u001b[39m>\u001b[39m Tensor:\n\u001b[0;32m--> <a href='file:///home/ubuntu/anaconda3/envs/chanwookim/lib/python3.9/site-packages/torch/nn/modules/linear.py?line=102'>103</a>\u001b[0m     \u001b[39mreturn\u001b[39;00m F\u001b[39m.\u001b[39;49mlinear(\u001b[39minput\u001b[39;49m, \u001b[39mself\u001b[39;49m\u001b[39m.\u001b[39;49mweight, \u001b[39mself\u001b[39;49m\u001b[39m.\u001b[39;49mbias)\n",
      "\u001b[0;31mRuntimeError\u001b[0m: mat1 and mat2 shapes cannot be multiplied (1536x321 and 1536x1536)"
     ]
    }
   ],
   "source": [
    "trf_input_0 = torch.Tensor(layer_lookup[\"trf_input_0\"]).unsqueeze(0)\n",
    "trf_output_0 = torch.Tensor(layer_lookup[\"trf_output_0\"])\n",
    "\n",
    "print(\"trf_input_0\", trf_input_0.shape)\n",
    "print(\"trf_output_0\", trf_output_0.shape)\n",
    "# print(model.mctc.encoder.layers[0])\n",
    "my_output = model.mctc.encoder.layers[0](trf_input_0)"
   ]
  },
  {
   "cell_type": "code",
   "execution_count": null,
   "metadata": {},
   "outputs": [],
   "source": []
  }
 ],
 "metadata": {
  "interpreter": {
   "hash": "005f445f18c7a8bd0fe064b3495835c6fa643dca1e16cc09fc8a4180886f88ef"
  },
  "kernelspec": {
   "display_name": "Python 3.9.11 ('chanwookim')",
   "language": "python",
   "name": "python3"
  },
  "language_info": {
   "codemirror_mode": {
    "name": "ipython",
    "version": 3
   },
   "file_extension": ".py",
   "mimetype": "text/x-python",
   "name": "python",
   "nbconvert_exporter": "python",
   "pygments_lexer": "ipython3",
   "version": "3.9.11"
  },
  "orig_nbformat": 4
 },
 "nbformat": 4,
 "nbformat_minor": 2
}
