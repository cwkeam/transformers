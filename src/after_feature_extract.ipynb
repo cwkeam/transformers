{
 "cells": [
  {
   "cell_type": "code",
   "execution_count": 1,
   "metadata": {},
   "outputs": [],
   "source": [
    "import torch\n",
    "from transformers import MCTCForCTC, MCTCProcessor, MCTCConfig\n",
    "config = MCTCConfig()\n",
    "model = MCTCForCTC(config)\n",
    "model.load_state_dict(torch.load(\"./ported_pytorch_model.bin\"))\n",
    "model = model.eval()"
   ]
  },
  {
   "cell_type": "code",
   "execution_count": 2,
   "metadata": {},
   "outputs": [
    {
     "name": "stdout",
     "output_type": "stream",
     "text": [
      "None torch.Size([1, 961, 80]) tensor(-0.0034) tensor(1.0000)\n",
      "None torch.Size([8065, 321]) tensor(8723289.) tensor(10.6297)\n"
     ]
    }
   ],
   "source": [
    "import arrayfire as af\n",
    "input_features = af.array.read_array(\"OUTPUT.arr\", key=\"model_input\").to_ndarray()\n",
    "ctc_head_output = af.array.read_array(\"OUTPUT.arr\", key=\"ctc_head_output\").to_ndarray()\n",
    "\n",
    "input_features = torch.Tensor(input_features).unsqueeze(0) # batch\n",
    "ctc_head_output = torch.Tensor(ctc_head_output)\n",
    "\n",
    "def valueprint(k, name=None):\n",
    "    print(name, k.shape, k.sum(), k.std())\n",
    "\n",
    "valueprint(input_features)\n",
    "valueprint(ctc_head_output)"
   ]
  },
  {
   "cell_type": "code",
   "execution_count": null,
   "metadata": {},
   "outputs": [],
   "source": [
    "my_logits = model(input_features).logits[0]\n",
    "valueprint(my_logits)"
   ]
  },
  {
   "cell_type": "code",
   "execution_count": 4,
   "metadata": {},
   "outputs": [
    {
     "name": "stdout",
     "output_type": "stream",
     "text": [
      "None torch.Size([321, 8065]) tensor(8723279., grad_fn=<SumBackward0>) tensor(10.6297, grad_fn=<StdBackward0>)\n"
     ]
    }
   ],
   "source": [
    "valueprint(my_logits)"
   ]
  },
  {
   "cell_type": "code",
   "execution_count": 6,
   "metadata": {},
   "outputs": [
    {
     "name": "stdout",
     "output_type": "stream",
     "text": [
      "None torch.Size([8065, 321]) tensor(10.3278) tensor(0.0003)\n"
     ]
    },
    {
     "data": {
      "text/plain": [
       "<Figure size 432x720 with 0 Axes>"
      ]
     },
     "metadata": {},
     "output_type": "display_data"
    },
    {
     "data": {
      "image/png": "[encoded data removed]",
      "text/plain": [
       "<Figure size 432x288 with 2 Axes>"
      ]
     },
     "metadata": {
      "needs_background": "light"
     },
     "output_type": "display_data"
    }
   ],
   "source": [
    "import matplotlib.pyplot as plt\n",
    "\n",
    "\n",
    "fig = plt.figure(figsize=(6, 10))\n",
    "\n",
    "\n",
    "fig, axs = plt.subplots(1, 2)\n",
    "# fig.suptitle('Vertically stacked subplots')\n",
    "# axs[0].plot(x, y)\n",
    "# axs[1].plot(x, -y)\n",
    "\n",
    "# modified = manual_rel.transpose(0,1).reshape([2159, 321, 4])\n",
    "mine = my_logits.transpose(0,1).detach().numpy()\n",
    "axs[0].imshow(ctc_head_output)\n",
    "axs[1].imshow(mine)\n",
    "# axs[2].imshow(MHAttention_matmulPos)\n",
    "valueprint(ctc_head_output - mine)"
   ]
  },
  {
   "cell_type": "code",
   "execution_count": 15,
   "metadata": {},
   "outputs": [
    {
     "data": {
      "text/plain": [
       "tensor([40.2842, 41.3599, 45.9419, 46.2969, 46.1534, 44.6336, 40.6253, 40.6394,\n",
       "        50.8049, 49.2264])"
      ]
     },
     "execution_count": 15,
     "metadata": {},
     "output_type": "execute_result"
    }
   ],
   "source": [
    "ctc_head_output[0][:10]"
   ]
  },
  {
   "cell_type": "code",
   "execution_count": 16,
   "metadata": {},
   "outputs": [
    {
     "data": {
      "text/plain": [
       "array([40.284042, 41.361042, 45.941486, 46.29699 , 46.153664, 44.633995,\n",
       "       40.625225, 40.639484, 50.804905, 49.226124], dtype=float32)"
      ]
     },
     "execution_count": 16,
     "metadata": {},
     "output_type": "execute_result"
    }
   ],
   "source": [
    "mine[0][:10]"
   ]
  },
  {
   "cell_type": "code",
   "execution_count": 7,
   "metadata": {},
   "outputs": [
    {
     "name": "stderr",
     "output_type": "stream",
     "text": [
      "Special tokens have been added in the vocabulary, make sure the associated word embeddings are fine-tuned or trained.\n"
     ]
    }
   ],
   "source": [
    "from transformers import MCTCTokenizer, MCTCFeatureExtractor\n",
    "\n",
    "feature_extractor = MCTCFeatureExtractor.from_pretrained(\"cwkeam/mctc-large\")\n",
    "\n",
    "tokenizer = MCTCTokenizer.from_pretrained(\"cwkeam/mctc-large\")\n"
   ]
  },
  {
   "cell_type": "code",
   "execution_count": 34,
   "metadata": {},
   "outputs": [
    {
     "name": "stdout",
     "output_type": "stream",
     "text": [
      "pred_ids tensor([  81, 8064, 8064, 8064, 8064, 8064,   29,   58, 8064, 8064])\n",
      "tensor(82)\n",
      "['|']\n",
      "tensor(30)\n",
      "['H']\n",
      "tensor(59)\n",
      "['e']\n",
      "tensor(82)\n",
      "['|']\n",
      "tensor(67)\n",
      "['m']\n",
      "tensor(75)\n",
      "['u']\n",
      "tensor(73)\n",
      "['s']\n",
      "tensor(74)\n",
      "['t']\n",
      "tensor(82)\n",
      "['|']\n",
      "tensor(62)\n",
      "['h']\n",
      "tensor(55)\n",
      "['a']\n",
      "tensor(76)\n",
      "['v']\n",
      "tensor(59)\n",
      "['e']\n",
      "tensor(82)\n",
      "['|']\n",
      "tensor(82)\n",
      "['|']\n",
      "tensor(72)\n",
      "['r']\n",
      "tensor(59)\n",
      "['e']\n",
      "tensor(59)\n",
      "['e']\n",
      "tensor(55)\n",
      "['a']\n",
      "tensor(55)\n",
      "['a']\n",
      "tensor(66)\n",
      "['l']\n",
      "tensor(66)\n",
      "['l']\n",
      "tensor(63)\n",
      "['i']\n",
      "tensor(80)\n",
      "['z']\n",
      "tensor(59)\n",
      "['e']\n",
      "tensor(58)\n",
      "['d']\n",
      "tensor(82)\n",
      "['|']\n",
      "tensor(82)\n",
      "['|']\n",
      "tensor(31)\n",
      "['I']\n",
      "tensor(82)\n",
      "['|']\n",
      "tensor(77)\n",
      "['w']\n",
      "tensor(55)\n",
      "['a']\n",
      "tensor(73)\n",
      "['s']\n",
      "tensor(73)\n",
      "['s']\n",
      "tensor(82)\n",
      "['|']\n",
      "tensor(82)\n",
      "['|']\n",
      "tensor(55)\n",
      "['a']\n",
      "tensor(82)\n",
      "['|']\n",
      "tensor(73)\n",
      "['s']\n",
      "tensor(74)\n",
      "['t']\n",
      "tensor(72)\n",
      "['r']\n",
      "tensor(55)\n",
      "['a']\n",
      "tensor(68)\n",
      "['n']\n",
      "tensor(68)\n",
      "['n']\n",
      "tensor(61)\n",
      "['g']\n",
      "tensor(59)\n",
      "['e']\n",
      "tensor(72)\n",
      "['r']\n",
      "tensor(72)\n",
      "['r']\n",
      "tensor(82)\n",
      "['|']\n",
      "tensor(55)\n",
      "['a']\n",
      "tensor(68)\n",
      "['n']\n",
      "tensor(58)\n",
      "['d']\n",
      "tensor(82)\n",
      "['|']\n",
      "tensor(77)\n",
      "['w']\n",
      "tensor(63)\n",
      "['i']\n",
      "tensor(73)\n",
      "['s']\n",
      "tensor(73)\n",
      "['s']\n",
      "tensor(62)\n",
      "['h']\n",
      "tensor(59)\n",
      "['e']\n",
      "tensor(58)\n",
      "['d']\n",
      "tensor(82)\n",
      "['|']\n",
      "tensor(79)\n",
      "['y']\n",
      "tensor(69)\n",
      "['o']\n",
      "tensor(75)\n",
      "['u']\n",
      "tensor(75)\n",
      "['u']\n",
      "tensor(82)\n",
      "['|']\n",
      "tensor(74)\n",
      "['t']\n",
      "tensor(63)\n",
      "['i']\n",
      "tensor(68)\n",
      "['n']\n",
      "tensor(58)\n",
      "['d']\n",
      "tensor(59)\n",
      "['e']\n",
      "tensor(72)\n",
      "['r']\n",
      "tensor(82)\n",
      "['|']\n",
      "tensor(82)\n",
      "['|']\n",
      "tensor(62)\n",
      "['h']\n",
      "tensor(63)\n",
      "['i']\n",
      "tensor(73)\n",
      "['s']\n",
      "tensor(82)\n",
      "['|']\n",
      "tensor(82)\n",
      "['|']\n",
      "tensor(62)\n",
      "['h']\n",
      "tensor(69)\n",
      "['o']\n",
      "tensor(73)\n",
      "['s']\n",
      "tensor(73)\n",
      "['s']\n",
      "tensor(70)\n",
      "['p']\n",
      "tensor(63)\n",
      "['i']\n",
      "tensor(74)\n",
      "['t']\n",
      "tensor(55)\n",
      "['a']\n",
      "tensor(66)\n",
      "['l']\n",
      "tensor(66)\n",
      "['l']\n",
      "tensor(63)\n",
      "['i']\n",
      "tensor(74)\n",
      "['t']\n",
      "tensor(74)\n",
      "['t']\n",
      "tensor(79)\n",
      "['y']\n",
      "tensor(82)\n",
      "['|']\n",
      "tensor(74)\n",
      "['t']\n",
      "tensor(69)\n",
      "['o']\n",
      "tensor(82)\n",
      "['|']\n",
      "tensor(67)\n",
      "['m']\n",
      "tensor(59)\n",
      "['e']\n",
      "tensor(17)\n",
      "[';']\n",
      "tensor(82)\n",
      "['|']\n",
      "tensor(31)\n",
      "['I']\n",
      "tensor(82)\n",
      "['|']\n",
      "tensor(55)\n",
      "['a']\n",
      "tensor(57)\n",
      "['c']\n",
      "tensor(57)\n",
      "['c']\n",
      "tensor(59)\n",
      "['e']\n",
      "tensor(70)\n",
      "['p']\n",
      "tensor(74)\n",
      "['t']\n",
      "tensor(74)\n",
      "['t']\n",
      "tensor(59)\n",
      "['e']\n",
      "tensor(58)\n",
      "['d']\n",
      "tensor(82)\n",
      "['|']\n",
      "tensor(82)\n",
      "['|']\n",
      "tensor(63)\n",
      "['i']\n",
      "tensor(74)\n",
      "['t']\n",
      "tensor(82)\n",
      "['|']\n",
      "tensor(82)\n",
      "['|']\n",
      "tensor(61)\n",
      "['g']\n",
      "tensor(72)\n",
      "['r']\n",
      "tensor(55)\n",
      "['a']\n",
      "tensor(55)\n",
      "['a']\n",
      "tensor(55)\n",
      "['a']\n",
      "tensor(74)\n",
      "['t']\n",
      "tensor(59)\n",
      "['e']\n",
      "tensor(60)\n",
      "['f']\n",
      "tensor(75)\n",
      "['u']\n",
      "tensor(66)\n",
      "['l']\n",
      "tensor(66)\n",
      "['l']\n",
      "tensor(66)\n",
      "['l']\n",
      "tensor(79)\n",
      "['y']\n",
      "tensor(11)\n",
      "[',']\n",
      "tensor(82)\n",
      "['|']\n",
      "tensor(31)\n",
      "['I']\n",
      "tensor(82)\n",
      "['|']\n",
      "tensor(57)\n",
      "['c']\n",
      "tensor(66)\n",
      "['l']\n",
      "tensor(66)\n",
      "['l']\n",
      "tensor(55)\n",
      "['a']\n",
      "tensor(73)\n",
      "['s']\n",
      "tensor(70)\n",
      "['p']\n",
      "tensor(82)\n",
      "['|']\n",
      "tensor(62)\n",
      "['h']\n",
      "tensor(63)\n",
      "['i']\n",
      "tensor(73)\n",
      "['s']\n",
      "tensor(82)\n",
      "['|']\n",
      "tensor(62)\n",
      "['h']\n",
      "tensor(55)\n",
      "['a']\n",
      "tensor(68)\n",
      "['n']\n",
      "tensor(58)\n",
      "['d']\n",
      "tensor(82)\n",
      "['|']\n",
      "tensor(62)\n",
      "['h']\n",
      "tensor(59)\n",
      "['e']\n",
      "tensor(82)\n",
      "['|']\n",
      "tensor(70)\n",
      "['p']\n",
      "tensor(72)\n",
      "['r']\n",
      "tensor(72)\n",
      "['r']\n",
      "tensor(59)\n",
      "['e']\n",
      "tensor(73)\n",
      "['s']\n",
      "tensor(73)\n",
      "['s']\n",
      "tensor(59)\n",
      "['e']\n",
      "tensor(58)\n",
      "['d']\n",
      "tensor(82)\n",
      "['|']\n",
      "tensor(67)\n",
      "['m']\n",
      "tensor(63)\n",
      "['i']\n",
      "tensor(68)\n",
      "['n']\n",
      "tensor(58)\n",
      "['d']\n",
      "tensor(13)\n",
      "['.']\n",
      "tensor(82)\n",
      "['|']\n"
     ]
    }
   ],
   "source": [
    "import numpy as np\n",
    "pred_ids = torch.argmax(torch.Tensor(ctc_head_output).transpose(0,1), axis=-1)\n",
    "print(\"pred_ids\", pred_ids[:10])\n",
    "# outputs = tokenizer.decode(pred_ids, output_word_offsets=True)[0]\n",
    "for idval in pred_ids:\n",
    "    idval += 1\n",
    "    \n",
    "    if idval == 8065:\n",
    "        continue\n",
    "    print(idval)\n",
    "    print(tokenizer.convert_ids_to_tokens(idval.unsqueeze(0)))\n",
    "\n"
   ]
  },
  {
   "cell_type": "code",
   "execution_count": 38,
   "metadata": {},
   "outputs": [],
   "source": [
    "model.save_pretrained(\"./final_pretrained\")"
   ]
  },
  {
   "cell_type": "code",
   "execution_count": 13,
   "metadata": {},
   "outputs": [],
   "source": [
    "import json\n",
    "\n",
    "k = json.load(open(\"./../../mctc-large/vocab.json\", \"r\"))"
   ]
  },
  {
   "cell_type": "code",
   "execution_count": 14,
   "metadata": {},
   "outputs": [],
   "source": [
    "new_k = {}\n",
    "for key, value in k.items():\n",
    "    if value == 0:\n",
    "        continue\n",
    "    new_k[key] = value - 1\n",
    "\n",
    "new_k[\"<pad>\"] = 8064\n",
    "\n",
    "json.dump(new_k, open(\"./../../mctc-large/vocab.json\", \"w\"))"
   ]
  },
  {
   "cell_type": "code",
   "execution_count": 15,
   "metadata": {},
   "outputs": [
    {
     "name": "stderr",
     "output_type": "stream",
     "text": [
      "Special tokens have been added in the vocabulary, make sure the associated word embeddings are fine-tuned or trained.\n"
     ]
    }
   ],
   "source": [
    "import torch\n",
    "from transformers import MCTCForCTC, MCTCProcessor, MCTCConfig\n",
    "from transformers import MCTCTokenizer, MCTCFeatureExtractor\n",
    "\n",
    "model = MCTCForCTC.from_pretrained(\"./../../mctc-large\")\n",
    "feature_extractor = MCTCFeatureExtractor.from_pretrained(\"./../../mctc-large\")\n",
    "tokenizer = MCTCTokenizer.from_pretrained(\"./../../mctc-large\")\n"
   ]
  },
  {
   "cell_type": "code",
   "execution_count": 16,
   "metadata": {},
   "outputs": [
    {
     "name": "stdout",
     "output_type": "stream",
     "text": [
      "None torch.Size([1, 961, 80]) tensor(-0.0034) tensor(1.0000)\n",
      "None torch.Size([8065, 321]) tensor(8723289.) tensor(10.6297)\n"
     ]
    }
   ],
   "source": [
    "import arrayfire as af\n",
    "input_features = af.array.read_array(\"OUTPUT.arr\", key=\"model_input\").to_ndarray()\n",
    "ctc_head_output = af.array.read_array(\"OUTPUT.arr\", key=\"ctc_head_output\").to_ndarray()\n",
    "\n",
    "input_features = torch.Tensor(input_features).unsqueeze(0) # batch\n",
    "ctc_head_output = torch.Tensor(ctc_head_output)\n",
    "\n",
    "def valueprint(k, name=None):\n",
    "    print(name, k.shape, k.sum(), k.std())\n",
    "\n",
    "valueprint(input_features)\n",
    "valueprint(ctc_head_output)"
   ]
  },
  {
   "cell_type": "code",
   "execution_count": null,
   "metadata": {},
   "outputs": [],
   "source": [
    "my_logits = model(input_features).logits[0]\n"
   ]
  },
  {
   "cell_type": "code",
   "execution_count": 18,
   "metadata": {},
   "outputs": [
    {
     "name": "stdout",
     "output_type": "stream",
     "text": [
      "None torch.Size([321, 8065]) tensor(8723279., grad_fn=<SumBackward0>) tensor(10.6297, grad_fn=<StdBackward0>)\n"
     ]
    }
   ],
   "source": [
    "valueprint(my_logits)"
   ]
  },
  {
   "cell_type": "code",
   "execution_count": 26,
   "metadata": {},
   "outputs": [
    {
     "name": "stdout",
     "output_type": "stream",
     "text": [
      "['|', 'H', 'e', '|', 'm', 'u', 's', 't', '|', 'h', 'a', 'v', 'e', '|', '|', 'r', 'e', 'e', 'a', 'a', 'l', 'l', 'i', 'z', 'e', 'd', '|', '|', 'I', '|', 'w', 'a', 's', 's', '|', '|', 'a', '|', 's', 't', 'r', 'a', 'n', 'n', 'g', 'e', 'r', 'r', '|', 'a', 'n', 'd', '|', 'w', 'i', 's', 's', 'h', 'e', 'd', '|', 'y', 'o', 'u', 'u', '|', 't', 'i', 'n', 'd', 'e', 'r', '|', '|', 'h', 'i', 's', '|', '|', 'h', 'o', 's', 's', 'p', 'i', 't', 'a', 'l', 'l', 'i', 't', 't', 'y', '|', 't', 'o', '|', 'm', 'e', ';', '|', 'I', '|', 'a', 'c', 'c', 'e', 'p', 't', 't', 'e', 'd', '|', '|', 'i', 't', '|', '|', 'g', 'r', 'a', 'a', 'a', 't', 'e', 'f', 'u', 'l', 'l', 'l', 'y', ',', '|', 'I', '|', 'c', 'l', 'l', 'a', 's', 'p', '|', 'h', 'i', 's', '|', 'h', 'a', 'n', 'd', '|', 'h', 'e', '|', 'p', 'r', 'r', 'e', 's', 's', 'e', 'd', '|', 'm', 'i', 'n', 'd', '.', '|']\n"
     ]
    }
   ],
   "source": [
    "pred_ids = torch.argmax(my_logits, axis=-1)\n",
    "\n",
    "pad_token = tokenizer.convert_tokens_to_ids([\"<pad>\"])[0]\n",
    "\n",
    "pred_ids = torch.stack([token for token in pred_ids if token != pad_token])\n",
    "\n",
    "print(tokenizer.convert_ids_to_tokens(pred_ids))\n",
    "\n"
   ]
  },
  {
   "cell_type": "code",
   "execution_count": null,
   "metadata": {},
   "outputs": [],
   "source": []
  }
 ],
 "metadata": {
  "interpreter": {
   "hash": "005f445f18c7a8bd0fe064b3495835c6fa643dca1e16cc09fc8a4180886f88ef"
  },
  "kernelspec": {
   "display_name": "Python 3.9.11 ('chanwookim')",
   "language": "python",
   "name": "python3"
  },
  "language_info": {
   "codemirror_mode": {
    "name": "ipython",
    "version": 3
   },
   "file_extension": ".py",
   "mimetype": "text/x-python",
   "name": "python",
   "nbconvert_exporter": "python",
   "pygments_lexer": "ipython3",
   "version": "3.9.11"
  },
  "orig_nbformat": 4
 },
 "nbformat": 4,
 "nbformat_minor": 2
}
