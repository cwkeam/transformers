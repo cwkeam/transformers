{
 "cells": [
  {
   "cell_type": "code",
   "execution_count": 1,
   "metadata": {},
   "outputs": [],
   "source": [
    "import pickle\n",
    "import arrayfire as af\n",
    "\n",
    "weights_dict = pickle.load(open(\"./weights_dict.pkl\", \"rb\"))\n",
    "\n",
    "# module == module_input -> norm -> conv2d -> module_out\n",
    "module_input = af.array.read_array(\"OUTPUT.arr\", key=\"model_input\").to_ndarray()\n",
    "input_conv2d = af.array.read_array(\"OUTPUT_CONV2D.arr\", key=\"input_conv2d\").to_ndarray()\n",
    "module_out = af.array.read_array(\"OUTPUT.arr\", key=\"conv_output\").to_ndarray()\n",
    "normw = weights_dict[\"Conv2D_normw\"]\n",
    "normb = weights_dict[\"Conv2D_normb\"]\n",
    "def valueprint(arr, key=None):\n",
    "    print(key, arr.shape, arr.sum())"
   ]
  },
  {
   "cell_type": "code",
   "execution_count": 2,
   "metadata": {},
   "outputs": [
    {
     "name": "stdout",
     "output_type": "stream",
     "text": [
      "module_input (961, 80) -0.0029907227\n",
      "input_conv2d (961, 1, 80) -11299.283\n",
      "module_out (1536, 321) 330.57333\n",
      "normw (1,) 0.5960634\n",
      "normb (1,) -0.14697292\n"
     ]
    }
   ],
   "source": [
    "valueprint(module_input, \"module_input\")\n",
    "valueprint(input_conv2d, \"input_conv2d\")\n",
    "valueprint(module_out, \"module_out\")\n",
    "valueprint(normw, \"normw\")\n",
    "valueprint(normb, \"normb\")"
   ]
  },
  {
   "cell_type": "code",
   "execution_count": 3,
   "metadata": {},
   "outputs": [
    {
     "data": {
      "text/plain": [
       "<All keys matched successfully>"
      ]
     },
     "execution_count": 3,
     "metadata": {},
     "output_type": "execute_result"
    }
   ],
   "source": [
    "import torch\n",
    "import numpy as np\n",
    "from transformers import MCTCForCTC, MCTCProcessor, MCTCConfig\n",
    "from datasets import load_dataset, load_metric, Audio, Dataset\n",
    "\n",
    "config = MCTCConfig()\n",
    "model = MCTCForCTC(config)\n",
    "model.load_state_dict(torch.load(\"./ported_pytorch_model.bin\"))"
   ]
  },
  {
   "cell_type": "code",
   "execution_count": 4,
   "metadata": {},
   "outputs": [],
   "source": [
    "first_layer_norm = model.mctc.encoder.layer_norm.eval()\n",
    "first_layer_conv = model.mctc.encoder.conv.eval()"
   ]
  },
  {
   "cell_type": "code",
   "execution_count": 5,
   "metadata": {},
   "outputs": [
    {
     "name": "stdout",
     "output_type": "stream",
     "text": [
      "input_conv2d_tensor torch.Size([1, 961, 80]) tensor(-11299.2832)\n",
      "model_conv_output torch.Size([1, 321, 1536]) tensor(330.5733, grad_fn=<SumBackward0>)\n"
     ]
    }
   ],
   "source": [
    "input_conv2d_tensor = torch.Tensor(input_conv2d).squeeze(dim=1).unsqueeze(0) # batched\n",
    "valueprint(input_conv2d_tensor, \"input_conv2d_tensor\")\n",
    "\n",
    "input_conv2d_tensor_padded = torch.nn.functional.pad(input_conv2d_tensor, (0,0,3,3), \"constant\", 0)\n",
    "\n",
    "model_conv_output = first_layer_conv(input_conv2d_tensor_padded)\n",
    "print(\"model_conv_output\", model_conv_output.shape, model_conv_output.sum())"
   ]
  },
  {
   "cell_type": "code",
   "execution_count": 6,
   "metadata": {},
   "outputs": [],
   "source": [
    "# conv works correctly!!!!!"
   ]
  },
  {
   "cell_type": "code",
   "execution_count": 7,
   "metadata": {},
   "outputs": [
    {
     "name": "stdout",
     "output_type": "stream",
     "text": [
      "norm_input torch.Size([961, 80]) tensor(-0.0034)\n",
      "norm_output torch.Size([961, 1, 80]) tensor(-11299.2832)\n"
     ]
    }
   ],
   "source": [
    "norm_input = torch.Tensor(module_input)\n",
    "norm_output = torch.Tensor(input_conv2d)\n",
    "valueprint(norm_input, \"norm_input\")\n",
    "valueprint(norm_output, \"norm_output\")"
   ]
  },
  {
   "cell_type": "code",
   "execution_count": 8,
   "metadata": {},
   "outputs": [
    {
     "name": "stdout",
     "output_type": "stream",
     "text": [
      "model_norm_output torch.Size([961, 80]) tensor(-11299.3154, grad_fn=<SumBackward0>)\n"
     ]
    }
   ],
   "source": [
    "model_norm_output = first_layer_norm(norm_input)\n",
    "valueprint(model_norm_output, \"model_norm_output\")"
   ]
  },
  {
   "cell_type": "code",
   "execution_count": 9,
   "metadata": {},
   "outputs": [
    {
     "name": "stdout",
     "output_type": "stream",
     "text": [
      "module_input (961, 80) -0.0029907227\n",
      "input_conv2d (961, 1, 80) -11299.283\n",
      "module_out (1536, 321) 330.57333\n"
     ]
    }
   ],
   "source": [
    "valueprint(module_input, \"module_input\")\n",
    "valueprint(input_conv2d, \"input_conv2d\")\n",
    "valueprint(module_out, \"module_out\")"
   ]
  },
  {
   "cell_type": "code",
   "execution_count": 10,
   "metadata": {},
   "outputs": [
    {
     "name": "stdout",
     "output_type": "stream",
     "text": [
      "norm_out torch.Size([1, 961, 80]) tensor(-11299.3154, grad_fn=<SumBackward0>)\n",
      "padded_out torch.Size([1, 967, 80]) tensor(-11299.3154, grad_fn=<SumBackward0>)\n",
      "model_out torch.Size([1, 321, 1536]) tensor(-386.8117, grad_fn=<SumBackward0>)\n"
     ]
    }
   ],
   "source": [
    "first_layer_norm = model.mctc.encoder.layer_norm.eval()\n",
    "first_layer_conv = model.mctc.encoder.conv.eval()\n",
    "\n",
    "def pad(input_conv2d_tensor):\n",
    "    return torch.nn.functional.pad(input_conv2d_tensor, (0,0,3,3), \"constant\", 0)\n",
    "\n",
    "model_norm_out = first_layer_norm(torch.Tensor(module_input).unsqueeze(0))\n",
    "valueprint(model_norm_out, \"norm_out\")\n",
    "model_norm_out = model_norm_out.squeeze(0)\n",
    "\n",
    "model_out = pad(model_norm_out.unsqueeze(0))\n",
    "valueprint(model_out, \"padded_out\")\n",
    "model_out = first_layer_conv(model_out)\n",
    "valueprint(model_out, \"model_out\")"
   ]
  },
  {
   "cell_type": "code",
   "execution_count": 11,
   "metadata": {},
   "outputs": [
    {
     "name": "stdout",
     "output_type": "stream",
     "text": [
      "real_norm_out (961, 1, 80) -11299.283\n",
      "model_norm_out torch.Size([961, 80]) tensor(-11299.3154, grad_fn=<SumBackward0>)\n"
     ]
    }
   ],
   "source": [
    "real_norm_out = input_conv2d\n",
    "model_norm_out = model_norm_out\n",
    "valueprint(real_norm_out, \"real_norm_out\")\n",
    "valueprint(model_norm_out, \"model_norm_out\")"
   ]
  },
  {
   "cell_type": "code",
   "execution_count": 12,
   "metadata": {},
   "outputs": [
    {
     "name": "stdout",
     "output_type": "stream",
     "text": [
      "diff torch.Size([961, 80]) tensor(0.0312, grad_fn=<SumBackward0>)\n"
     ]
    }
   ],
   "source": [
    "real_norm_out = torch.Tensor(real_norm_out).squeeze(1)\n",
    "model_norm_out = model_norm_out.squeeze(0)\n",
    "\n",
    "diff = real_norm_out - model_norm_out\n",
    "valueprint(diff, \"diff\")"
   ]
  },
  {
   "cell_type": "code",
   "execution_count": 13,
   "metadata": {},
   "outputs": [
    {
     "data": {
      "text/plain": [
       "<matplotlib.image.AxesImage at 0x7f87900a7d90>"
      ]
     },
     "execution_count": 13,
     "metadata": {},
     "output_type": "execute_result"
    },
    {
     "data": {
      "text/plain": [
       "<Figure size 432x720 with 0 Axes>"
      ]
     },
     "metadata": {},
     "output_type": "display_data"
    },
    {
     "data": {
      "image/png": "[encoded data removed]",
      "text/plain": [
       "<Figure size 432x288 with 4 Axes>"
      ]
     },
     "metadata": {
      "needs_background": "light"
     },
     "output_type": "display_data"
    }
   ],
   "source": [
    "import matplotlib.pyplot as plt\n",
    "\n",
    "\n",
    "fig = plt.figure(figsize=(6, 10))\n",
    "\n",
    "\n",
    "fig, axs = plt.subplots(1, 4)\n",
    "# fig.suptitle('Vertically stacked subplots')\n",
    "# axs[0].plot(x, y)\n",
    "# axs[1].plot(x, -y)\n",
    "\n",
    "axs[0].imshow(module_input)\n",
    "axs[1].imshow(diff.detach().numpy())\n",
    "axs[2].imshow(real_norm_out.detach().numpy())\n",
    "axs[3].imshow(model_norm_out.detach().numpy())"
   ]
  },
  {
   "cell_type": "code",
   "execution_count": 14,
   "metadata": {},
   "outputs": [
    {
     "name": "stdout",
     "output_type": "stream",
     "text": [
      "None (961, 80) -0.0029907227\n",
      "ll (961, 80) -11299.279\n",
      "real_norm_out torch.Size([961, 80]) tensor(-11299.2832)\n",
      "tensor(0.0030)\n"
     ]
    },
    {
     "data": {
      "text/plain": [
       "<Figure size 432x720 with 0 Axes>"
      ]
     },
     "metadata": {},
     "output_type": "display_data"
    },
    {
     "data": {
      "image/png": "[encoded data removed]",
      "text/plain": [
       "<Figure size 432x288 with 3 Axes>"
      ]
     },
     "metadata": {
      "needs_background": "light"
     },
     "output_type": "display_data"
    }
   ],
   "source": [
    "valueprint(module_input)\n",
    "ll = module_input*normw + normb\n",
    "valueprint(ll, \"ll\")\n",
    "valueprint(real_norm_out, \"real_norm_out\")\n",
    "\n",
    "fig = plt.figure(figsize=(6, 10))\n",
    "\n",
    "\n",
    "fig, axs = plt.subplots(1, 3)\n",
    "axs[0].imshow(module_input)\n",
    "axs[1].imshow(ll)\n",
    "axs[2].imshow(real_norm_out.detach().numpy())\n",
    "\n",
    "diff = torch.Tensor(ll) - real_norm_out\n",
    "print(diff.sum())"
   ]
  },
  {
   "cell_type": "code",
   "execution_count": 17,
   "metadata": {},
   "outputs": [
    {
     "name": "stdout",
     "output_type": "stream",
     "text": [
      "padded_out torch.Size([1, 967, 80]) tensor(-11299.2793)\n",
      "model_out torch.Size([1, 321, 1536]) tensor(330.5749, grad_fn=<SumBackward0>)\n"
     ]
    }
   ],
   "source": [
    "\n",
    "model_norm_out = torch.Tensor(ll)\n",
    "\n",
    "model_out = pad(model_norm_out.unsqueeze(0))\n",
    "valueprint(model_out, \"padded_out\")\n",
    "model_out = first_layer_conv(model_out)\n",
    "valueprint(model_out, \"model_out\")"
   ]
  },
  {
   "cell_type": "code",
   "execution_count": 1,
   "metadata": {},
   "outputs": [
    {
     "data": {
      "text/plain": [
       "<All keys matched successfully>"
      ]
     },
     "execution_count": 1,
     "metadata": {},
     "output_type": "execute_result"
    }
   ],
   "source": [
    "# testing after fixing the model & weights\n",
    "import torch\n",
    "from transformers import MCTCForCTC, MCTCProcessor, MCTCConfig\n",
    "config = MCTCConfig()\n",
    "model = MCTCForCTC(config)\n",
    "model.load_state_dict(torch.load(\"./ported_pytorch_model.bin\"))"
   ]
  },
  {
   "cell_type": "code",
   "execution_count": 2,
   "metadata": {},
   "outputs": [
    {
     "name": "stdout",
     "output_type": "stream",
     "text": [
      "None (961, 80) -0.0029907227\n",
      "None (1536, 321) 330.57333\n"
     ]
    }
   ],
   "source": [
    "import arrayfire as af\n",
    "module_input = af.array.read_array(\"OUTPUT.arr\", key=\"model_input\").to_ndarray()\n",
    "input_conv2d = af.array.read_array(\"OUTPUT_CONV2D.arr\", key=\"input_conv2d\").to_ndarray()\n",
    "module_out = af.array.read_array(\"OUTPUT.arr\", key=\"conv_output\").to_ndarray()\n",
    "def valueprint(arr, key=None):\n",
    "    print(key, arr.shape, arr.sum())\n",
    "\n",
    "valueprint(module_input)\n",
    "valueprint(module_out)"
   ]
  },
  {
   "cell_type": "code",
   "execution_count": 6,
   "metadata": {},
   "outputs": [
    {
     "name": "stdout",
     "output_type": "stream",
     "text": [
      "input_features torch.Size([1, 961, 80]) tensor(-0.0034)\n",
      "input_conv2d (961, 1, 80) -11299.283\n",
      "our_input_conv2d torch.Size([1, 961, 80]) tensor(-11299.2812, grad_fn=<SumBackward0>)\n",
      "input_features torch.Size([1, 967, 80]) tensor(-11299.2793, grad_fn=<SumBackward0>)\n",
      "our_output torch.Size([1, 321, 1536]) tensor(330.5749, grad_fn=<SumBackward0>)\n",
      "desired output (1536, 321) 330.57333\n"
     ]
    }
   ],
   "source": [
    "'''\n",
    "def forward(\n",
    "    self,\n",
    "    input_features,\n",
    "    attention_mask,\n",
    "    head_mask,\n",
    "    output_attentions=False,\n",
    "    output_hidden_states=False,\n",
    "    return_dict=True,\n",
    "):\n",
    "    output_attentions = output_attentions if output_attentions is not None else self.config.output_attentions\n",
    "    output_hidden_states = (\n",
    "        output_hidden_states if output_hidden_states is not None else self.config.output_hidden_states\n",
    "    )\n",
    "    return_dict = return_dict if return_dict is not None else self.config.use_return_dict\n",
    "\n",
    "    input_features = self.layer_norm(input_features)\n",
    "    \n",
    "    inputs_embeds = self.conv(input_features)\n",
    "'''\n",
    "model.eval()\n",
    "\n",
    "input_features = torch.Tensor(module_input).unsqueeze(0)\n",
    "valueprint(input_features, \"input_features\")\n",
    "our_output = model.mctc.encoder.layer_norm(input_features)\n",
    "valueprint(input_conv2d, \"input_conv2d\")\n",
    "valueprint(our_output, \"our_input_conv2d\")\n",
    "our_output = model.mctc.encoder.conv(our_output)\n",
    "valueprint(our_output, \"our_output\")\n",
    "valueprint(module_out, \"desired output\")"
   ]
  },
  {
   "cell_type": "code",
   "execution_count": 7,
   "metadata": {},
   "outputs": [],
   "source": [
    "# done!"
   ]
  },
  {
   "cell_type": "code",
   "execution_count": null,
   "metadata": {},
   "outputs": [],
   "source": []
  }
 ],
 "metadata": {
  "interpreter": {
   "hash": "005f445f18c7a8bd0fe064b3495835c6fa643dca1e16cc09fc8a4180886f88ef"
  },
  "kernelspec": {
   "display_name": "Python 3.9.11 ('chanwookim')",
   "language": "python",
   "name": "python3"
  },
  "language_info": {
   "codemirror_mode": {
    "name": "ipython",
    "version": 3
   },
   "file_extension": ".py",
   "mimetype": "text/x-python",
   "name": "python",
   "nbconvert_exporter": "python",
   "pygments_lexer": "ipython3",
   "version": "3.9.11"
  },
  "orig_nbformat": 4
 },
 "nbformat": 4,
 "nbformat_minor": 2
}
